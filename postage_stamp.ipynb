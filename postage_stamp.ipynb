{
 "cells": [
  {
   "cell_type": "markdown",
   "metadata": {},
   "source": [
    "# Selecting a source from the catalog and creating a cutout image\n",
    "\n",
    "The goal is to select a single source from the coadd measurements based on its properties and create a postage stamp image.\n",
    "\n",
    "Based partly on:\n",
    "* https://github.com/lsst-com/notebooks/blob/master/postage_stamp.ipynb\n",
    "\n",
    "which was in turn guided by:\n",
    "* https://pipelines.lsst.io/getting-started/index.html#getting-started-tutorials \n",
    "* https://github.com/RobertLuptonTheGood/notebooks/blob/master/Demos/Colour%20Images.ipynb"
   ]
  },
  {
   "cell_type": "code",
   "execution_count": null,
   "metadata": {},
   "outputs": [],
   "source": [
    "import numpy as np\n",
    "import random\n",
    "\n",
    "import lsst.daf.persistence as dafPersist\n",
    "from lsst.daf.persistence import Butler\n",
    "import lsst.afw.geom as afwGeom\n",
    "import lsst.afw.coord as afwCoord\n",
    "import lsst.afw.image as afwImage\n",
    "\n",
    "from astropy.visualization import ZScaleInterval"
   ]
  },
  {
   "cell_type": "code",
   "execution_count": null,
   "metadata": {},
   "outputs": [],
   "source": [
    "# Set plotting defaults\n",
    "%matplotlib inline\n",
    "import matplotlib.pyplot as plt\n",
    "zscale = ZScaleInterval()\n",
    "\n",
    "# Set up some plotting defaults:\n",
    "plt.rcParams.update({'figure.figsize' : (12, 8)})\n",
    "plt.rcParams.update({'font.size' : 20})\n",
    "plt.rcParams.update({'axes.linewidth' : 3})\n",
    "plt.rcParams.update({'axes.labelweight' : 3})\n",
    "plt.rcParams.update({'axes.titleweight' : 3})\n",
    "plt.rcParams.update({'ytick.major.width' : 3})\n",
    "plt.rcParams.update({'ytick.minor.width' : 2})\n",
    "plt.rcParams.update({'ytick.major.size' : 8})\n",
    "plt.rcParams.update({'ytick.minor.size' : 5})\n",
    "plt.rcParams.update({'xtick.major.size' : 8})\n",
    "plt.rcParams.update({'xtick.minor.size' : 5})\n",
    "plt.rcParams.update({'xtick.major.width' : 3})\n",
    "plt.rcParams.update({'xtick.minor.width' : 2})\n",
    "plt.rcParams.update({'xtick.direction' : 'in'})\n",
    "plt.rcParams.update({'ytick.direction' : 'in'})"
   ]
  },
  {
   "cell_type": "markdown",
   "metadata": {},
   "source": [
    "We'll look at data from the [HSC/SSP survey](http://hsc.mtk.nao.ac.jp/ssp/), which have been processed by the LSST stack. In particular, we'll focus on the ultra-deep (\"UDEEP\") coadds."
   ]
  },
  {
   "cell_type": "code",
   "execution_count": null,
   "metadata": {},
   "outputs": [],
   "source": [
    "##### If you want to edit the data set, tract, and patch yourself, change the numbers below appropriately\n",
    "data_set = 'UDEEP'# HSC/SSP survey data include WIDE, DEEP, UDEEP fields\n",
    "datadir = '/datasets/hsc/repo/rerun/DM-13666/' + data_set \n",
    "butler = Butler(datadir)\n",
    "\n",
    "# We selected the \"Ultra-deep (UDEEP)\" data, and will choose a tract from the SXDS field (tract 8765):\n",
    "tract = 8765 #8766\n",
    "patch = '1,2' #'8,3'  # patch selected at random; you can select others if you like...\n",
    "filt = 'HSC-G' # We'll select only a single filter for now.\n",
    "dataid = {'filter': filt, 'tract':tract, 'patch':patch}\n",
    "\n",
    "deep_coadd = butler.get('deepCoadd_forced_src', dataId=dataid)"
   ]
  },
  {
   "cell_type": "markdown",
   "metadata": {},
   "source": [
    "### Read in the source catalog and the calibrated exposure\n",
    "\n",
    "We'll use the `deepCoadd_forced_src` catalog, which contains forced photometry."
   ]
  },
  {
   "cell_type": "code",
   "execution_count": null,
   "metadata": {},
   "outputs": [],
   "source": [
    "# Source catalog:\n",
    "my_src = butler.get('deepCoadd_forced_src', dataId=dataid)\n",
    "\n",
    "# Calibrated exposure:\n",
    "my_calexp = butler.get('deepCoadd_calexp', dataId=dataid)\n",
    "\n",
    "# Extract the WCS and the calib object:\n",
    "my_wcs = my_calexp.getWcs()\n",
    "my_calib = my_calexp.getCalib()\n",
    "my_calib.setThrowOnNegativeFlux(False) # For magnitudes\n",
    "\n",
    "# Finally, get the reference table for the coadd sources:\n",
    "my_src_ref = butler.get('deepCoadd_ref', dataId=dataid)\n",
    "\n",
    "# To see the names of columns in this table, use:\n",
    "# my_src_ref.schema.getNames()"
   ]
  },
  {
   "cell_type": "markdown",
   "metadata": {},
   "source": [
    "The cell below takes advantage of slots defined in the schema.\n",
    "\n",
    "The `getMagnitude` function below can return some `nan` and `inf` values. In the category of \"best practices\", we are suggesting that these _not_ be replaced with sentinel values, but rather that one filter the arrays when needed. (We achieve this with the `okmag` filter below.)"
   ]
  },
  {
   "cell_type": "code",
   "execution_count": null,
   "metadata": {},
   "outputs": [],
   "source": [
    "# Data values can be accessed using explicit references (e.g., my_src['base_PsfFlux_flux'] for the PSF flux), \n",
    "# or the slot functionality that is built into the stack (e.g., my_src.getPsfFlux()). \n",
    "\n",
    "## This is just a demonstration of the slot functionality (uncomment to see result):\n",
    "#np.testing.assert_equal(my_calib.getMagnitude(my_src['base_PsfFlux_flux']),\n",
    "#                        my_calib.getMagnitude(my_src.getPsfFlux()))\n",
    "\n",
    "# Extract the PSF flux, then calculate the PSF magnitude using the calib object:\n",
    "psf_mag = my_calib.getMagnitude(my_src.getPsfInstFlux())\n",
    "\n",
    "# Extract the CModel flux, then calculate the CModel magnitude using the calib object:\n",
    "cm_mag = my_calib.getMagnitude(my_src.getModelInstFlux())\n",
    "\n",
    "# Select only the objects that don't have NaN values in their mags:\n",
    "okmag = (np.isfinite(psf_mag)) & (np.isfinite(cm_mag))\n",
    "\n",
    "# Distribution of PSF magnitudes:\n",
    "# If you have nan or inf values in your array, use the range argument to avoid searching for min and max\n",
    "plt.figure()\n",
    "plt.yscale('log', nonposy='clip')\n",
    "plt.hist(psf_mag[okmag], bins=np.arange(17., 29., 0.25), range=(17., 29.))\n",
    "#plt.hist(np.nan_to_num(psf_mag), bins=np.arange(15., 26., 0.25)) # Alternative\n",
    "plt.xlabel('PSF Magnitude')\n",
    "plt.ylabel('Counts')\n",
    "\n",
    "# Difference between PSF and model mags, which is often used as a star/galaxy separation criterion. \n",
    "# Here we color-code by the stack's classification (0=Star, 1=Galaxy (extended source))\n",
    "plt.figure()\n",
    "plt.scatter(psf_mag[okmag], psf_mag[okmag] - cm_mag[okmag], c=my_src['base_ClassificationExtendedness_value'][okmag], cmap='coolwarm', s=6)\n",
    "plt.colorbar().set_label('Classification')\n",
    "plt.xlim(17., 29.)\n",
    "plt.ylim(-1., 2.)\n",
    "plt.xlabel('PSF Magnitude')\n",
    "plt.ylabel('PSF - Model Magnitude')"
   ]
  },
  {
   "cell_type": "markdown",
   "metadata": {},
   "source": [
    "Now select a source based on its properties; e.g., pick a bright star. We'll choose one that was used in creating the PSF, by using the `calib_psfUsed` flag."
   ]
  },
  {
   "cell_type": "code",
   "execution_count": null,
   "metadata": {},
   "outputs": [],
   "source": [
    "# Pick a bright star that was used to fit the PSF:\n",
    "selection = my_src_ref['calib_psfUsed'] & np.isfinite(psf_mag) # Also require the PSF mag to not be NaN\n",
    "\n",
    "# Pick one of the PSF stars at random:\n",
    "sel_ind = np.where(selection)\n",
    "ind0 = random.choice(np.arange(np.size(sel_ind)))\n",
    "index = sel_ind[0][ind0]\n",
    "\n",
    "print('Magnitude of selected star: ',psf_mag[index])"
   ]
  },
  {
   "cell_type": "markdown",
   "metadata": {},
   "source": [
    "Extract the RA, Dec position of the star we've chosen, and create a `SpherePoint` object to be used to extract the postage stamp around this star:"
   ]
  },
  {
   "cell_type": "code",
   "execution_count": null,
   "metadata": {},
   "outputs": [],
   "source": [
    "ra_target, dec_target = my_src['coord_ra'][index], my_src['coord_dec'][index] # Note: coordinates are in radians\n",
    "radec = afwGeom.SpherePoint(ra_target, dec_target, afwGeom.radians) "
   ]
  },
  {
   "cell_type": "markdown",
   "metadata": {},
   "source": [
    "### Select a cutout image (using pixel coordinates for selection):\n",
    "\n",
    "First, we will define a bounding box using methods in `afwGeom`, then we will extract a cutout using this bounding box via the `bbox` keyword."
   ]
  },
  {
   "cell_type": "code",
   "execution_count": null,
   "metadata": {},
   "outputs": [],
   "source": [
    "cutoutSize = afwGeom.ExtentI(300, 300) # size of cutout in pixels\n",
    "xy = afwGeom.Point2I(my_wcs.skyToPixel(radec)) # central XY coordinate of our star's RA, Dec position\n",
    "\n",
    "# Create the bounding box:\n",
    "bbox = afwGeom.Box2I(xy - cutoutSize//2, cutoutSize)\n",
    "\n",
    "# Full patch image\n",
    "image = butler.get('deepCoadd_calexp', immediate=True, dataId=dataid)\n",
    "# Because an entire tract shares a WCS, the corner of the patch (or cutout) isn't necessarily at (X,Y)=(0,0). Get the XY0 pixel values:\n",
    "xy0 = image.getXY0() \n",
    "\n",
    "# Postage stamp image only, using the bbox defined above:\n",
    "cutout_image = butler.get('deepCoadd_calexp_sub', bbox=bbox, immediate=True, dataId=dataid).getMaskedImage()\n",
    "# Because an entire tract shares a WCS, the corner of the patch (or cutout) isn't necessarily at (X,Y)=(0,0). Get the XY0 pixel values:\n",
    "xy0_cutout = cutout_image.getXY0() "
   ]
  },
  {
   "cell_type": "markdown",
   "metadata": {},
   "source": [
    "### Plot the image of the entire patch:\n",
    "\n",
    "We'll highlight the PSF star we've selected with a magenta circle."
   ]
  },
  {
   "cell_type": "code",
   "execution_count": null,
   "metadata": {},
   "outputs": [],
   "source": [
    "vmin, vmax = zscale.get_limits(image.image.array)\n",
    "# Get the dimensions of the image so we can set plot limits\n",
    "imsize = image.getDimensions()\n",
    "plt.imshow(image.image.array, vmin=vmin, vmax=vmax, cmap='binary')\n",
    "# Set the plot range to the dimensions:\n",
    "plt.xlim(0,imsize[0])\n",
    "plt.ylim(0,imsize[1])\n",
    "plt.colorbar()\n",
    "plt.xlabel('X (pix)')\n",
    "plt.ylabel('Y (pix)')\n",
    "plt.scatter(xy.getX()-xy0.getX(), xy.getY()-xy0.getY(), color='none', edgecolor='magenta', s=200, linewidth=3)"
   ]
  },
  {
   "cell_type": "markdown",
   "metadata": {},
   "source": [
    "### Plot the image of the cutout:"
   ]
  },
  {
   "cell_type": "code",
   "execution_count": null,
   "metadata": {},
   "outputs": [],
   "source": [
    "vmin, vmax = zscale.get_limits(cutout_image.image.array)\n",
    "# Get the dimensions of the image so we can set plot limits\n",
    "imsize = cutout_image.getDimensions()\n",
    "plt.imshow(cutout_image.image.array, vmin=vmin, vmax=vmax, cmap='binary')\n",
    "# Set the plot range to the dimensions:\n",
    "plt.xlim(0,imsize[0])\n",
    "plt.ylim(0,imsize[1])\n",
    "plt.colorbar()\n",
    "plt.xlabel('X (pix)')\n",
    "plt.ylabel('Y (pix)')\n",
    "plt.scatter(xy.getX()-xy0_cutout.getX(), xy.getY()-xy0_cutout.getY(), color='none', edgecolor='magenta', s=2000, linewidth=5)"
   ]
  },
  {
   "cell_type": "markdown",
   "metadata": {},
   "source": [
    "### Now select nearby sources and overplot them on the image:"
   ]
  },
  {
   "cell_type": "code",
   "execution_count": null,
   "metadata": {},
   "outputs": [],
   "source": [
    "# We'll use astropy utilities for finding nearby sources:\n",
    "import astropy.coordinates as coord\n",
    "import astropy.units as u"
   ]
  },
  {
   "cell_type": "code",
   "execution_count": null,
   "metadata": {},
   "outputs": [],
   "source": [
    "# Export the sources as an Astropy table:\n",
    "src_tab = my_src.asAstropy()\n",
    "\n",
    "# Create an Astropy \"SkyCoord\" object with the coordinates of all the sources:\n",
    "src_coord = coord.SkyCoord(src_tab['coord_ra'],src_tab['coord_dec'])\n",
    "# Select the PSF star plotted above:\n",
    "selected_src_coord = src_coord[index]"
   ]
  },
  {
   "cell_type": "code",
   "execution_count": null,
   "metadata": {},
   "outputs": [],
   "source": [
    "# Use the \"separation\" function for SkyCoord objects to select objects within a certain distance from the target star:\n",
    "\n",
    "sep_arcmin = 0.5 # Desired separation in arcminutes\n",
    "find_nearby = src_coord.separation(selected_src_coord) < sep_arcmin*u.arcmin\n",
    "nearby_src = np.where(find_nearby & okmag) # added \"okmag\" to ensure only well-measured sources appear\n",
    "\n",
    "print('Selected ',np.size(src_coord[nearby_src]),' sources')"
   ]
  },
  {
   "cell_type": "code",
   "execution_count": null,
   "metadata": {},
   "outputs": [],
   "source": [
    "vmin, vmax = zscale.get_limits(cutout_image.image.array)\n",
    "# Get the dimensions of the image so we can set plot limits\n",
    "imsize = cutout_image.getDimensions()\n",
    "plt.imshow(cutout_image.image.array, vmin=vmin, vmax=vmax, cmap='binary')\n",
    "# Set the plot range to the dimensions:\n",
    "plt.xlim(0,imsize[0])\n",
    "plt.ylim(0,imsize[1])\n",
    "plt.colorbar()\n",
    "plt.xlabel('X (pix)')\n",
    "plt.ylabel('Y (pix)')\n",
    "plt.title(f'All detected sources within {sep_arcmin:5.2} arcmin of selected star')\n",
    "plt.scatter(xy.getX()-xy0_cutout.getX(), xy.getY()-xy0_cutout.getY(), color='none', edgecolor='magenta', s=2000, linewidth=5)\n",
    "\n",
    "for nearby in nearby_src[0]:\n",
    "    ra_tmp, dec_tmp = my_src['coord_ra'][nearby], my_src['coord_dec'][nearby] # Radians\n",
    "    radec_tmp = afwGeom.SpherePoint(ra_tmp, dec_tmp, afwGeom.radians)\n",
    "    xy_tmp = afwGeom.Point2I(my_wcs.skyToPixel(radec_tmp))\n",
    "    plt.scatter(xy_tmp.getX()-xy0_cutout.getX(), xy_tmp.getY()-xy0_cutout.getY(), color='none', edgecolor='cyan', s=400, linewidth=5)\n"
   ]
  },
  {
   "cell_type": "markdown",
   "metadata": {},
   "source": [
    "### Separate point/extended sources\n",
    "\n",
    "We'll use the `base_ClassificationExtendedness_value` -- this is set to 1 for things classified as extended, and 0 for point-like sources."
   ]
  },
  {
   "cell_type": "code",
   "execution_count": null,
   "metadata": {},
   "outputs": [],
   "source": [
    "gx = my_src['base_ClassificationExtendedness_value'] > 0.9 # extended sources have this flag set to 1\n",
    "star = my_src['base_ClassificationExtendedness_value'] < 0.1 # for point sources, should be 0"
   ]
  },
  {
   "cell_type": "code",
   "execution_count": null,
   "metadata": {},
   "outputs": [],
   "source": [
    "vmin, vmax = zscale.get_limits(cutout_image.image.array)\n",
    "# Get the dimensions of the image so we can set plot limits\n",
    "imsize = cutout_image.getDimensions()\n",
    "plt.imshow(cutout_image.image.array, vmin=vmin, vmax=vmax, cmap='binary')\n",
    "# Set the plot range to the dimensions:\n",
    "plt.xlim(0,imsize[0])\n",
    "plt.ylim(0,imsize[1])\n",
    "plt.colorbar()\n",
    "plt.xlabel('X (pix)')\n",
    "plt.ylabel('Y (pix)')\n",
    "plt.title(f'All detected sources within {sep_arcmin:5.2} arcmin of selected star')\n",
    "\n",
    "nearby_star = np.where(find_nearby & okmag & star) # added \"okmag\" to ensure only well-measured sources appear\n",
    "nearby_gx = np.where(find_nearby & okmag & gx) # added \"okmag\" to ensure only well-measured sources appear\n",
    "\n",
    "for nearby in nearby_star[0]:\n",
    "    ra_tmp, dec_tmp = my_src['coord_ra'][nearby], my_src['coord_dec'][nearby] # Radians\n",
    "    radec_tmp = afwGeom.SpherePoint(ra_tmp, dec_tmp, afwGeom.radians)\n",
    "    xy_tmp = afwGeom.Point2I(my_wcs.skyToPixel(radec_tmp))\n",
    "    plt.scatter(xy_tmp.getX()-xy0_cutout.getX(), xy_tmp.getY()-xy0_cutout.getY(), color='none', edgecolor='cyan', s=400, linewidth=5)\n",
    "\n",
    "plt.scatter(xy_tmp.getX()-xy0_cutout.getX(), xy_tmp.getY()-xy0_cutout.getY(), color='none', edgecolor='cyan', s=400, linewidth=5, label = 'star')\n",
    "\n",
    "for nearby in nearby_gx[0]:\n",
    "    ra_tmp, dec_tmp = my_src['coord_ra'][nearby], my_src['coord_dec'][nearby] # Radians\n",
    "    radec_tmp = afwGeom.SpherePoint(ra_tmp, dec_tmp, afwGeom.radians)\n",
    "    xy_tmp = afwGeom.Point2I(my_wcs.skyToPixel(radec_tmp))\n",
    "    plt.scatter(xy_tmp.getX()-xy0_cutout.getX(), xy_tmp.getY()-xy0_cutout.getY(), color='none', edgecolor='red', s=400, linewidth=5)\n",
    "\n",
    "plt.scatter(xy_tmp.getX()-xy0_cutout.getX(), xy_tmp.getY()-xy0_cutout.getY(), color='none', edgecolor='red', s=400, linewidth=5, label='galaxy')\n",
    "\n",
    "plt.legend()"
   ]
  },
  {
   "cell_type": "code",
   "execution_count": null,
   "metadata": {},
   "outputs": [],
   "source": []
  }
 ],
 "metadata": {
  "kernelspec": {
   "display_name": "LSST",
   "language": "python",
   "name": "lsst"
  },
  "language_info": {
   "codemirror_mode": {
    "name": "ipython",
    "version": 3
   },
   "file_extension": ".py",
   "mimetype": "text/x-python",
   "name": "python",
   "nbconvert_exporter": "python",
   "pygments_lexer": "ipython3",
   "version": "3.6.6"
  }
 },
 "nbformat": 4,
 "nbformat_minor": 2
}
