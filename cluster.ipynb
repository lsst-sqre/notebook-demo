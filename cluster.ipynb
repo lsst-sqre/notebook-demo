{
 "cells": [
  {
   "cell_type": "markdown",
   "metadata": {},
   "source": [
    "# Whiting I\n",
    "This notebook explores a very simple analysis to show the utility of notebooks in general, and some of the features of the JupyterLab environment specifically.\n",
    "\n",
    "This notebook uses data from DR14 of the [SDSS](https://www.sdss.org/dr14/) survey using the globular cluster Whiting I as a starting point.  See the [finding chart](http://skyserver.sdss.org/dr8/en/tools/chart/navi.asp?ra=30.7367&dec=-3.25319&opt=)."
   ]
  },
  {
   "cell_type": "markdown",
   "metadata": {},
   "source": [
    "## Before running the notebook, get the data"
   ]
  },
  {
   "cell_type": "markdown",
   "metadata": {},
   "source": [
    "### Get the catalog"
   ]
  },
  {
   "cell_type": "code",
   "execution_count": null,
   "metadata": {},
   "outputs": [],
   "source": [
    "!mkdir -p $HOME/DATA"
   ]
  },
  {
   "cell_type": "code",
   "execution_count": null,
   "metadata": {},
   "outputs": [],
   "source": [
    "!if ! [ -f $HOME/DATA/cluster.csv ]; then \\\n",
    "    curl https://lsst-web.ncsa.illinois.edu/~krughoff/data/MyResult_20171010_5.csv -o $HOME/DATA/cluster.csv; fi"
   ]
  },
  {
   "cell_type": "markdown",
   "metadata": {},
   "source": [
    "This catalog was generated using the following [CasJobs](https://skyserver.sdss.org/CasJobs/SubmitJob.aspx) query:\n",
    "```sql\n",
    "SELECT si.ra, si.dec, si.type, si.psfMag_u, si.psfMag_g, si.psfMag_r, si.psfMag_i, si.psfMag_z,\n",
    "  si.psfMagErr_u, si.psfMagErr_g, si.psfMagErr_r, si.psfMagErr_i, si.psfMagErr_z,\n",
    "  si.modelMag_u, si.modelMag_g, si.modelMag_r, si.modelMag_i, si.modelMag_z,\n",
    "  si.modelMagErr_u, si.modelMagErr_g, si.modelMagErr_r, si.modelMagErr_i, si.modelMagErr_z\n",
    "FROM photoprimary si WHERE\n",
    "si.ra between 30.7375-0.1 AND 30.7375+0.1 AND\n",
    "si.dec between -3.2528-0.1 AND -3.2528+0.1\n",
    "```\n",
    "### Get an image\n",
    "\n",
    "This image was identified by using the SDSS [SIAP service](http://cas.sdss.org/dr14/en/help/docs/api.aspx#voservice) -- specifically, by looking through the response from [this URL](http://skyserver.sdss.org/dr14/SkyServerWS/SIAP/getSIAP?POS=30.7375,-3.2528&SIZE=0.001&FORMAT=image/fits). (Note: SIAP returns a VOTable which is in XML, and not in a friendly, human-readable format. This is included solely to illustrate how the query was done.)"
   ]
  },
  {
   "cell_type": "code",
   "execution_count": null,
   "metadata": {},
   "outputs": [],
   "source": [
    "!if ! [ -f $HOME/DATA/frame-r-007778-1-0522.fits ]; then \\\n",
    "    curl -L http://dr14.sdss.org/sas/dr14/eboss/photoObj/frames/301/7778/1/frame-r-007778-1-0522.fits.bz2 \\\n",
    "    -o $HOME/DATA/frame-r-007778-1-0522.fits.bz2; bunzip2 $HOME/DATA/frame-r-007778-1-0522.fits.bz2; fi"
   ]
  },
  {
   "cell_type": "markdown",
   "metadata": {},
   "source": [
    "## Simple density analysis"
   ]
  },
  {
   "cell_type": "markdown",
   "metadata": {},
   "source": [
    "Initial imports.  The first import will fail, but be caught.  This is intentional to show the extensible environment.  To run the notebook either delete the boto import (it is not actually used in this notebook), or open a terminal and execute the following commands:\n",
    "```\n",
    "$> source /opt/lsst/software/stack/loadLSST.bash\n",
    "$> pip install --user boto\n",
    "```"
   ]
  },
  {
   "cell_type": "code",
   "execution_count": null,
   "metadata": {},
   "outputs": [],
   "source": [
    "try:\n",
    "    import boto # this will fail on systems that don't have boto\n",
    "except ModuleNotFoundError:\n",
    "    print(\"You can install boto by following the steps above.\")\n",
    "    \n",
    "import numpy, os\n",
    "from matplotlib import pylab as plt\n",
    "plt.rcParams['figure.dpi'] = 120\n",
    "plt.rcParams.update({'figure.figsize' : (12, 8)})\n",
    "from scipy.ndimage.filters import gaussian_filter\n",
    "\n",
    "import astropy.io.fits as fits\n",
    "from astropy.wcs import WCS"
   ]
  },
  {
   "cell_type": "markdown",
   "metadata": {},
   "source": [
    "Set some useful variables"
   ]
  },
  {
   "cell_type": "code",
   "execution_count": null,
   "metadata": {},
   "outputs": [],
   "source": [
    "ra = 30.7375 # RA of Whiting 1, in degrees\n",
    "dec = -3.2528 # Dec of Whiting 1, in degrees\n",
    "radius = 1.2/60 # radius of Whiting 1, in degrees (1.2 arcmin, converted to degrees)"
   ]
  },
  {
   "cell_type": "markdown",
   "metadata": {},
   "source": [
    "Read in the catalog"
   ]
  },
  {
   "cell_type": "code",
   "execution_count": null,
   "metadata": {},
   "outputs": [],
   "source": [
    "home = os.getenv('HOME')\n",
    "cat = numpy.genfromtxt(os.path.join(home,\"DATA/cluster.csv\"), names=True, dtype=None, delimiter=',')\n",
    "\n",
    "# NOTE: to see the names of the columns included in this array, use the following:\n",
    "# cat.dtype.names"
   ]
  },
  {
   "cell_type": "markdown",
   "metadata": {},
   "source": [
    "Does the catalog look reasonable? Plot positions of stars on the sky."
   ]
  },
  {
   "cell_type": "code",
   "execution_count": null,
   "metadata": {},
   "outputs": [],
   "source": [
    "def plot(x, y):\n",
    "    plt.scatter(x, y, alpha=0.3, s=10, c='black')\n",
    "    plt.xlabel('RA (deg)')\n",
    "    plt.ylabel('Declination (deg)')\n",
    "    plt.show()\n",
    "\n",
    "plot(cat['ra'], cat['dec'])"
   ]
  },
  {
   "cell_type": "markdown",
   "metadata": {},
   "source": [
    "Good - there's a cluster of objects at the center.\n",
    "\n",
    "SDSS gives us a star galaxy separation.  Let's use it!\n",
    "\n",
    "As outlined [in this description of SDSS morphological parameters](https://www.sdss.org/dr14/algorithms/classify/), objects classified as 'GALAXY' have *type* = 3, and those classified as 'STAR' have *type* = 6."
   ]
  },
  {
   "cell_type": "code",
   "execution_count": null,
   "metadata": {},
   "outputs": [],
   "source": [
    "stars = cat[numpy.where(cat['type']==6)[0]]\n",
    "galaxies = cat[numpy.where(cat['type']==3)[0]]"
   ]
  },
  {
   "cell_type": "markdown",
   "metadata": {},
   "source": [
    "Do stars cluster around the position of Whiting 1?"
   ]
  },
  {
   "cell_type": "code",
   "execution_count": null,
   "metadata": {},
   "outputs": [],
   "source": [
    "plot(stars['ra'], stars['dec'])"
   ]
  },
  {
   "cell_type": "markdown",
   "metadata": {},
   "source": [
    "Yes - stars are clustered as expected!\n",
    "\n",
    "How about galaxies?"
   ]
  },
  {
   "cell_type": "code",
   "execution_count": null,
   "metadata": {},
   "outputs": [],
   "source": [
    "plot(galaxies['ra'], galaxies['dec'])"
   ]
  },
  {
   "cell_type": "markdown",
   "metadata": {},
   "source": [
    "Galaxies are not clustered, but more or less randomly distributed."
   ]
  },
  {
   "cell_type": "markdown",
   "metadata": {},
   "source": [
    "Select cluster members spatially using the central (RA, Dec) of Whiting 1 and the radius, as defined above."
   ]
  },
  {
   "cell_type": "code",
   "execution_count": null,
   "metadata": {},
   "outputs": [],
   "source": [
    "cluster_stars = stars[numpy.where(numpy.hypot(stars['ra']-ra, stars['dec']-dec) < radius)[0]]"
   ]
  },
  {
   "cell_type": "markdown",
   "metadata": {},
   "source": [
    "Compare spatially selected stars with all stars in a color-magnitude diagram."
   ]
  },
  {
   "cell_type": "code",
   "execution_count": null,
   "metadata": {},
   "outputs": [],
   "source": [
    "plt.scatter(stars['psfMag_r']-stars['psfMag_i'], stars['psfMag_r'], alpha=0.5, s=15, edgecolors='black', facecolors='none')\n",
    "plt.scatter(cluster_stars['psfMag_r']-cluster_stars['psfMag_i'], cluster_stars['psfMag_r'], c='red', alpha=0.7, s=15)\n",
    "\n",
    "plt.ylim(25, 13)\n",
    "plt.xlim(-1, 2.)\n",
    "plt.xlabel('r-i')\n",
    "plt.ylabel('r')\n",
    "plt.show()"
   ]
  },
  {
   "cell_type": "code",
   "execution_count": null,
   "metadata": {},
   "outputs": [],
   "source": [
    "# Same plot, but with one more line to see where galaxies are in the CMD:\n",
    "plt.scatter(stars['psfMag_r']-stars['psfMag_i'], stars['psfMag_r'], alpha=0.7, s=15, edgecolors='black', facecolors='none', label='all stars')\n",
    "plt.scatter(cluster_stars['psfMag_r']-cluster_stars['psfMag_i'], cluster_stars['psfMag_r'], c='red', alpha=0.7, s=15, label='cluster stars')\n",
    "\n",
    "plt.scatter(galaxies['psfMag_r']-galaxies['psfMag_i'], galaxies['psfMag_r'], c='blue', alpha=0.3, s=10, label='galaxies')\n",
    "\n",
    "plt.legend()\n",
    "plt.ylim(25, 13)\n",
    "plt.xlim(-1, 2.)\n",
    "plt.xlabel('r-i')\n",
    "plt.ylabel('r')\n",
    "plt.show()"
   ]
  },
  {
   "cell_type": "markdown",
   "metadata": {},
   "source": [
    "Make a reasonable cut in `r-i` color space that isolates most of the cluster stars."
   ]
  },
  {
   "cell_type": "code",
   "execution_count": null,
   "metadata": {},
   "outputs": [],
   "source": [
    "rmi = stars['psfMag_r']-stars['psfMag_i']\n",
    "cluster = stars[numpy.where((rmi>-0.25) & (rmi<0.5))[0]]"
   ]
  },
  {
   "cell_type": "markdown",
   "metadata": {},
   "source": [
    "Now we can plot the positions of color-selected cluster members."
   ]
  },
  {
   "cell_type": "code",
   "execution_count": null,
   "metadata": {},
   "outputs": [],
   "source": [
    "plot(cluster['ra'], cluster['dec'])"
   ]
  },
  {
   "cell_type": "markdown",
   "metadata": {},
   "source": [
    "Histogram the star counts and smooth on a reasonable scale."
   ]
  },
  {
   "cell_type": "code",
   "execution_count": null,
   "metadata": {},
   "outputs": [],
   "source": [
    "H, xedges, yedges = plt.histogram2d(cluster['ra'], cluster['dec'], range=[[30.6,30.85], [-3.36, -3.15]], bins=(30,30)) \n",
    "levels = (0.1, 0.4, 0.7, 1.0, 1.3, 1.45, 1.6, 1.8)\n",
    "smoothed_hist = gaussian_filter(H, 3.0) # three bin sigma"
   ]
  },
  {
   "cell_type": "markdown",
   "metadata": {},
   "source": [
    "Compute the extent of the subimage so we can plot the contours."
   ]
  },
  {
   "cell_type": "code",
   "execution_count": null,
   "metadata": {},
   "outputs": [],
   "source": [
    "pixmin = (0, 250)\n",
    "pixmax = (600, 850)\n",
    "im = fits.open(os.path.join(home,'DATA/frame-r-007778-1-0522.fits'))\n",
    "wcs = WCS(im[0].header)\n",
    "extent = wcs.wcs_pix2world([pixmin[::-1], pixmax[::-1]], 0)"
   ]
  },
  {
   "cell_type": "markdown",
   "metadata": {},
   "source": [
    "Plot image and contours.  Note that the 2D histogram routine outputs transposed axes. We won't worry about that for now..."
   ]
  },
  {
   "cell_type": "code",
   "execution_count": null,
   "metadata": {},
   "outputs": [],
   "source": [
    "plt.contour(0.5*(yedges[1:] + yedges[:-1]), 0.5*(xedges[1:] + xedges[:-1]), smoothed_hist, levels)\n",
    "plt.imshow(im[0].data[pixmin[0]:pixmax[0], pixmin[1]:pixmax[1]], vmin=-0.01, vmax=0.2, cmap='gray',\n",
    "           extent=(extent[0][1], extent[1][1], extent[1][0], extent[0][0]))\n",
    "plt.xlabel(\"Declination (deg)\")\n",
    "plt.ylabel(\"RA (deg)\")\n",
    "plt.show()"
   ]
  },
  {
   "cell_type": "markdown",
   "metadata": {},
   "source": [
    "Plot the smoothed 2D histogram with the contours overlaid."
   ]
  },
  {
   "cell_type": "code",
   "execution_count": null,
   "metadata": {},
   "outputs": [],
   "source": [
    "plt.imshow(smoothed_hist, extent=[yedges[0],yedges[-1],xedges[-1],xedges[0]],cmap='Spectral_r')\n",
    "plt.contour(0.5*(yedges[1:] + yedges[:-1]), 0.5*(xedges[1:] + xedges[:-1]), smoothed_hist, levels)\n",
    "plt.xlabel(\"Declination (deg)\")\n",
    "plt.ylabel(\"RA (deg)\")\n",
    "plt.show()"
   ]
  },
  {
   "cell_type": "code",
   "execution_count": null,
   "metadata": {},
   "outputs": [],
   "source": []
  }
 ],
 "metadata": {
  "kernelspec": {
   "display_name": "LSST",
   "language": "python",
   "name": "lsst"
  },
  "language_info": {
   "codemirror_mode": {
    "name": "ipython",
    "version": 3
   },
   "file_extension": ".py",
   "mimetype": "text/x-python",
   "name": "python",
   "nbconvert_exporter": "python",
   "pygments_lexer": "ipython3",
   "version": "3.6.2"
  }
 },
 "nbformat": 4,
 "nbformat_minor": 2
}
