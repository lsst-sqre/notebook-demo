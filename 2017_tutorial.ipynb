{
 "cells": [
  {
   "cell_type": "markdown",
   "metadata": {},
   "source": [
    "# Using the LSST DM Stack in Python\n",
    "\n",
    "***Edited on 7/17/2018 by J. Carlin as test (familiarizing myself with github workflow)***\n",
    "\n",
    "This tutorial focuses on using the DM stack in Python.  Some of the things we'll be doing are more commonly done on the command-line, via executable scripts the stack also provides.  A complete tutorial for the command-line functionality can be found in [DM Tech Note 23](https://dmtn-023.lsst.io/).\n",
    "\n",
    "More notebook examples can be found here: https://github.com/RobertLuptonTheGood/notebooks/tree/master/Demos"
   ]
  },
  {
   "cell_type": "markdown",
   "metadata": {},
   "source": [
    "## Data Repository Setup\n",
    "\n",
    "Instead of operating directly on files and directories, we interact with on-disk data products via an abstraction layer called the *data butler*.  The butler operates on *data repositories*, and our first task is to set up a repository with some raw data, master calibration files, and an external reference catalog.  All of these are from a self-contained test dataset we call [ci_hsc](https://github.com/lsst/ci_hsc).  The full ci_hsc dataset includes just enough data to run the full (current) LSST pipeline, which extends through processing coadds from multiple bands together.  In this tutorial we'll focus on processing an individual image, and that's all this particular subset will support.  We also won't go into the details of how to build master calibration files or reference catalogs here.\n",
    "\n",
    "These first few steps to set up a data repository are best performed on the command-line, but use a Jupyter trick to do that within the notebook.  You're also welcome to copy and paste these lines (minus the \"`%%script bash`\" line, of course) into a JupyterLab terminal window and run them individually instead if you want to pay close attention to what we're doing."
   ]
  },
  {
   "cell_type": "code",
   "execution_count": 1,
   "metadata": {
    "collapsed": true
   },
   "outputs": [],
   "source": [
    "%%script bash\n",
    "export WORK_DIR=$HOME/WORK/2017_tutorial\n",
    "if ! [ -d $WORK_DIR ]; then\n",
    "    cd $HOME/WORK\n",
    "    curl -O http://lsst-web.ncsa.illinois.edu/~krughoff/data/2017_tutorial.tar.gz\n",
    "    tar zxvf 2017_tutorial.tar.gz\n",
    "fi"
   ]
  },
  {
   "cell_type": "code",
   "execution_count": 2,
   "metadata": {},
   "outputs": [],
   "source": [
    "import os\n",
    "WORK_DIR = os.path.join(os.environ['HOME'], \"WORK\", \"2017_tutorial\")"
   ]
  },
  {
   "cell_type": "markdown",
   "metadata": {},
   "source": [
    "## Instrument Signature Removal and Command-Line Tasks\n",
    "\n",
    "Before we can start doing *interesting* things, we need some minimally processed images (i.e. flat-fielded, bias-corrected, etc).  Because the HSC team has spent a lot of time characterizing the instrument, we really want to run this step with the default configuration they've provided.  That's also much actually easier to do from the command-line, and while we *could* do it from Python, that'd involve a lot of little irrelevant workarounds we'd rather not get bogged down in.\n",
    "\n",
    "ISR is implemented as a subclass of `lsst.pipe.base.Task`.  Nearly all of our high-level algorithms are implemented as `Task`s, which are essentially just callable objects that can be composed (a high-level `Task` can hold one or more lower-level \"subtasks\", to which it can delegate work) and configured (every task takes an instance of a configuration class that controls what it does in detail).  ISR is actually a `CmdLineTask`, a special kind of task that can be run from the command-line and use the data butler for all of its inputs and outputs (regular `Task`s generally do not use the butler directly).  Unlike virtually every other algorithm, there is a different ISR `Task` for each major camera (though there's also a simple default one), reflecting the specialized processing that's needed at this level.\n",
    "\n",
    "But (for uninteresting, historical reasons), it's not currently possible to run `IsrTask` from the command-line.  Instead, what we can do is run a parent `CmdLineTask`, `lsst.pipe.tasks.ProcessCcdTask`, which will run `IsrTask` as well as a few other steps.  By default, it doesn't actually save the image directly after ISR is run - it performs a few more operations first, and then saves that image.  But we can tell it to do so by modifying the tasks' configuration when we.\n",
    "\n",
    "The full command-line for running `ProcessCcdTask` is below.  Note that `$HOME/WORK` is just the `WORK_DIR` variable we've defined above, but we have to redefine it here because evironment variables in one `%%script` environment don't propagate to the next. If you've been running these from a terminal tab instead, you can just use `$WORK_DIR` instead."
   ]
  },
  {
   "cell_type": "code",
   "execution_count": 3,
   "metadata": {},
   "outputs": [
    {
     "name": "stdout",
     "output_type": "stream",
     "text": [
      "root INFO: Loading config overrride file '/opt/lsst/software/stack/stack/miniconda3-4.5.4-10a4fa6/Linux64/obs_subaru/16.0-4-gb87961d6+2/config/processCcd.py'\n",
      "root INFO: Loading config overrride file '/opt/lsst/software/stack/stack/miniconda3-4.5.4-10a4fa6/Linux64/obs_subaru/16.0-4-gb87961d6+2/config/hsc/processCcd.py'\n",
      "CameraMapper INFO: Loading exposure registry from /home/jcarlin/WORK/2017_tutorial/registry.sqlite3\n",
      "CameraMapper INFO: Loading calib registry from /home/jcarlin/WORK/2017_tutorial/CALIB/calibRegistry.sqlite3\n",
      "CameraMapper INFO: Loading calib registry from /home/jcarlin/WORK/2017_tutorial/CALIB/calibRegistry.sqlite3\n",
      "root INFO: Running: /opt/lsst/software/stack/stack/miniconda3-4.5.4-10a4fa6/Linux64/pipe_tasks/16.0-4-g08dccf71+3/bin/processCcd.py /home/jcarlin/WORK/2017_tutorial --rerun isr --id visit=903334 ccd=16 --config isr.doWrite=True\n",
      "processCcd INFO: Processing {'visit': 903334, 'ccd': 16, 'field': 'STRIPE82L', 'dateObs': '2013-06-17', 'pointing': 533, 'filter': 'HSC-R', 'taiObs': '2013-06-17', 'expTime': 30.0}\n",
      "processCcd.isr INFO: Performing ISR on sensor {'visit': 903334, 'ccd': 16, 'field': 'STRIPE82L', 'dateObs': '2013-06-17', 'pointing': 533, 'filter': 'HSC-R', 'taiObs': '2013-06-17', 'expTime': 30.0}\n",
      "processCcd.isr.crosstalk INFO: Applying crosstalk correction\n",
      "processCcd.isr INFO: Applying brighter fatter correction\n",
      "processCcd.isr INFO: Finished brighter fatter in 4 iterations\n",
      "processCcd.isr INFO: Set 0 BAD pixels to 179.38\n",
      "processCcd.isr INFO: Adding a distortion model to the WCS\n",
      "processCcd.isr INFO: Flattened sky level: 179.413406 +/- 7.385491\n",
      "processCcd.isr INFO: Measuring sky levels in 8x16 grids: 179.179189\n",
      "processCcd.isr INFO: Sky flatness in 8x16 grids - pp: 0.039554 rms: 0.005853\n",
      "processCcd.isr INFO: Setting rough magnitude zero point: 32.692803\n",
      "processCcd.charImage INFO: Processing {'visit': 903334, 'ccd': 16, 'field': 'STRIPE82L', 'dateObs': '2013-06-17', 'pointing': 533, 'filter': 'HSC-R', 'taiObs': '2013-06-17', 'expTime': 30.0}\n",
      "processCcd.charImage WARN: Source catalog detected and measured with placeholder or default PSF\n",
      "processCcd.charImage.repair INFO: Identified 104 cosmic rays.\n",
      "processCcd.charImage.detection INFO: Detected 724 positive peaks in 293 footprints and 0 negative peaks in 0 footprints to 50 sigma\n",
      "processCcd.charImage.detection INFO: Resubtracting the background after object detection\n",
      "processCcd.charImage.measurement INFO: Measuring 293 sources (293 parents, 0 children) \n",
      "processCcd.charImage.measurePsf INFO: Measuring PSF\n",
      "processCcd.charImage.measurePsf.reserve INFO: Reserved 26/128 sources\n",
      "processCcd.charImage.measurePsf INFO: PSF star selector found 102 candidates\n",
      "processCcd.charImage.measurePsf.psfDeterminer WARN: NOT scaling kernelSize by stellar quadrupole moment, but using absolute value\n",
      "processCcd.charImage.measurePsf INFO: PSF determination using 94/102 stars.\n",
      "processCcd.charImage INFO: iter 1; PSF sigma=2.25, dimensions=(41, 41); median background=179.08\n",
      "processCcd.charImage WARN: Source catalog detected and measured with placeholder or default PSF\n",
      "processCcd.charImage.repair INFO: Identified 93 cosmic rays.\n",
      "processCcd.charImage.detection INFO: Detected 534 positive peaks in 283 footprints and 0 negative peaks in 0 footprints to 50 sigma\n",
      "processCcd.charImage.detection INFO: Resubtracting the background after object detection\n",
      "processCcd.charImage.measurement INFO: Measuring 283 sources (283 parents, 0 children) \n",
      "processCcd.charImage.measurePsf INFO: Measuring PSF\n",
      "processCcd.charImage.measurePsf.reserve INFO: Reserved 29/146 sources\n",
      "processCcd.charImage.measurePsf INFO: PSF star selector found 117 candidates\n",
      "processCcd.charImage.measurePsf.psfDeterminer WARN: NOT scaling kernelSize by stellar quadrupole moment, but using absolute value\n",
      "processCcd.charImage.measurePsf INFO: PSF determination using 109/117 stars.\n",
      "processCcd.charImage INFO: iter 2; PSF sigma=2.26, dimensions=(41, 41); median background=179.04\n",
      "processCcd.charImage.repair INFO: Identified 97 cosmic rays.\n",
      "processCcd.charImage.measurement INFO: Measuring 283 sources (283 parents, 0 children) \n",
      "processCcd.charImage.measureApCorr INFO: Measuring aperture corrections for 23 flux fields\n",
      "processCcd.charImage.measureApCorr INFO: Aperture correction for modelfit_CModel_initial: RMS 0.015778 from 108\n",
      "processCcd.charImage.measureApCorr INFO: Aperture correction for ext_convolved_ConvolvedFlux_1_3_3: RMS 0.029056 from 105\n",
      "processCcd.charImage.measureApCorr INFO: Aperture correction for modelfit_CModel: RMS 0.015807 from 108\n",
      "processCcd.charImage.measureApCorr INFO: Aperture correction for ext_convolved_ConvolvedFlux_2_kron: RMS 0.003545 from 101\n",
      "processCcd.charImage.measureApCorr INFO: Aperture correction for ext_convolved_ConvolvedFlux_2_3_3: RMS 0.045104 from 109\n",
      "processCcd.charImage.measureApCorr INFO: Aperture correction for ext_convolved_ConvolvedFlux_1_6_0: RMS 0.018476 from 108\n",
      "processCcd.charImage.measureApCorr INFO: Aperture correction for ext_convolved_ConvolvedFlux_0_3_3: RMS 0.029056 from 105\n",
      "processCcd.charImage.measureApCorr INFO: Aperture correction for ext_convolved_ConvolvedFlux_0_6_0: RMS 0.018476 from 108\n",
      "processCcd.charImage.measureApCorr INFO: Aperture correction for ext_convolved_ConvolvedFlux_3_3_3: RMS 0.059772 from 109\n",
      "processCcd.charImage.measureApCorr INFO: Aperture correction for modelfit_CModel_exp: RMS 0.015799 from 108\n",
      "processCcd.charImage.measureApCorr INFO: Aperture correction for ext_convolved_ConvolvedFlux_0_4_5: RMS 0.025299 from 109\n",
      "processCcd.charImage.measureApCorr INFO: Aperture correction for ext_convolved_ConvolvedFlux_1_4_5: RMS 0.025299 from 109\n",
      "processCcd.charImage.measureApCorr INFO: Aperture correction for base_PsfFlux: RMS 0.015849 from 108\n",
      "processCcd.charImage.measureApCorr INFO: Aperture correction for ext_convolved_ConvolvedFlux_2_4_5: RMS 0.027238 from 109\n",
      "processCcd.charImage.measureApCorr INFO: Aperture correction for ext_convolved_ConvolvedFlux_3_kron: RMS 0.005315 from 99\n",
      "processCcd.charImage.measureApCorr INFO: Aperture correction for ext_convolved_ConvolvedFlux_1_kron: RMS 0.003861 from 101\n",
      "processCcd.charImage.measureApCorr INFO: Aperture correction for ext_convolved_ConvolvedFlux_0_kron: RMS 0.003861 from 101\n",
      "processCcd.charImage.measureApCorr INFO: Aperture correction for ext_photometryKron_KronFlux: RMS 0.003861 from 101\n",
      "processCcd.charImage.measureApCorr INFO: Aperture correction for ext_convolved_ConvolvedFlux_3_4_5: RMS 0.031492 from 109\n",
      "processCcd.charImage.measureApCorr INFO: Aperture correction for modelfit_CModel_dev: RMS 0.015888 from 108\n",
      "processCcd.charImage.measureApCorr INFO: Aperture correction for base_GaussianFlux: RMS 0.014787 from 104\n",
      "processCcd.charImage.measureApCorr INFO: Aperture correction for ext_convolved_ConvolvedFlux_2_6_0: RMS 0.018795 from 108\n",
      "processCcd.charImage.measureApCorr INFO: Aperture correction for ext_convolved_ConvolvedFlux_3_6_0: RMS 0.019782 from 108\n",
      "processCcd.charImage.applyApCorr INFO: Applying aperture corrections to 23 flux fields\n",
      "processCcd.calibrate INFO: Processing {'visit': 903334, 'ccd': 16, 'field': 'STRIPE82L', 'dateObs': '2013-06-17', 'pointing': 533, 'filter': 'HSC-R', 'taiObs': '2013-06-17', 'expTime': 30.0}\n",
      "processCcd.calibrate.detection INFO: Detected 1275 positive peaks in 902 footprints and 8 negative peaks in 8 footprints to 5 sigma\n",
      "processCcd.calibrate.detection INFO: Resubtracting the background after object detection\n",
      "processCcd.calibrate.deblend INFO: Deblending 902 sources\n",
      "processCcd.calibrate.deblend INFO: Deblended: of 902 sources, 116 were deblended, creating 324 children, total 1226 sources\n",
      "processCcd.calibrate.measurement INFO: Measuring 1226 sources (902 parents, 324 children) \n",
      "processCcd.calibrate.applyApCorr INFO: Applying aperture corrections to 3 flux fields\n",
      "processCcd.calibrate INFO: Copying flags from icSourceCat to sourceCat for 216 sources\n",
      "processCcd.calibrate.astromRefObjLoader INFO: Loading reference objects using center (320.755132, -0.388280) and radius 0.12589560053468046 deg\n",
      "processCcd.calibrate.astromRefObjLoader INFO: Loaded 1741 reference objects\n",
      "processCcd.calibrate.astrometry.matcher INFO: filterStars purged 0 reference stars, leaving 1741 stars\n",
      "processCcd.calibrate.astrometry.matcher INFO: Purged 961 unusable sources, leaving 265 usable sources\n",
      "processCcd.calibrate.astrometry.matcher INFO: Matched 258 sources\n",
      "processCcd.calibrate.astrometry.matcher INFO: filterStars purged 0 reference stars, leaving 1741 stars\n",
      "processCcd.calibrate.astrometry.matcher INFO: Purged 961 unusable sources, leaving 265 usable sources\n",
      "processCcd.calibrate.astrometry.matcher INFO: Matched 237 sources\n",
      "processCcd.calibrate.astrometry.matcher INFO: filterStars purged 0 reference stars, leaving 1741 stars\n",
      "processCcd.calibrate.astrometry.matcher INFO: Purged 961 unusable sources, leaving 265 usable sources\n",
      "processCcd.calibrate.astrometry.matcher INFO: Matched 225 sources\n",
      "processCcd.calibrate.astrometry INFO: Matched and fit WCS in 3 iterations; found 225 matches with scatter = 0.018 +- 0.011 arcsec\n",
      "processCcd.calibrate.photoCal.match.sourceSelection INFO: Selected 1137/1226 sources\n",
      "processCcd.calibrate.photoCal.match.referenceSelection INFO: Selected 363/2234 references\n",
      "processCcd.calibrate.photoCal.match INFO: Matched 166 from 1137/1226 input and 363/2234 reference sources\n",
      "processCcd.calibrate.photoCal.reserve INFO: Reserved 0/166 sources\n",
      "processCcd.calibrate.photoCal INFO: Applying color terms for filterName='r', config.photoCatName=ps1_pv3_3pi_20170110 because config.applyColorTerms is True\n",
      "processCcd.calibrate.photoCal INFO: Magnitude zero point: 30.541802 +/- 0.000162 from 118 stars\n",
      "processCcd.calibrate INFO: Photometric zero-point: 30.541802\n"
     ]
    },
    {
     "name": "stderr",
     "output_type": "stream",
     "text": [
      "WARNING: You are using OpenBLAS with multiple threads (64), but have not\n",
      "specified the number of threads using one of the OpenBLAS environment variables:\n",
      "OPENBLAS_NUM_THREADS, GOTO_NUM_THREADS, OMP_NUM_THREADS.\n",
      "This may indicate that you are unintentionally using multiple threads, which may\n",
      "cause problems. WE HAVE THEREFORE DISABLED OpenBLAS THREADING. If you know\n",
      "what you are doing and want threads enabled implicitly, set the environment\n",
      "variable LSST_ALLOW_IMPLICIT_THREADS.\n"
     ]
    }
   ],
   "source": [
    "%%script bash\n",
    "processCcd.py $HOME/WORK/2017_tutorial --rerun isr --id visit=903334 ccd=16 --config isr.doWrite=True"
   ]
  },
  {
   "cell_type": "markdown",
   "metadata": {},
   "source": [
    "There are a few features of this command-line that bear explaining:\n",
    " - We run `processCcd.py`, not `ProcessCcdTask`.  There's a similar driver script for all `CmdLineTask`s, with the name formed by making the first word lowercase and removing the `Task` suffix.  These are added to your `PATH` when you set up the LSST package in which they're defined (which happens automatically in the JupyterLab environment).\n",
    " - The first argument to any command-line task is the path an input data repository.\n",
    " - We've used the `--rerun` argument to set the location of the output repository, in this case `$HOME/WORK/rerun/isr`.  You can also use `--output` to set the path more directly, but we recommend `--rerun` because it enforces a nice convention for where to put outputs that helps with discoverability.\n",
    " - The `--id` argument sets the *data ID(s)* to be processed, in this case a single CCD from a single visit.  All `CmdLineTasks` share a fairly sophisticated syntax for expressions that match multiple data IDs, which you can learn more about by running any `CmdLineTask` with `--help`.\n",
    " - We've overridden a configuration value with the `--config` option, in this case to make sure the just-after-ISR image file is written.  Running a `CmdLineTask` automatically also includes applying configuation overrides that customize the task for the kind of data you're processing (i.e. which camera it comes from), and that's how the task knows to run the custom ISR task for HSC, rather than the generic default.  You can see all of the config options for a `CmdLineTask` by running with `--show config`, though the results can be a bit overwhelming.\n",
    " \n",
    "The rest of this tutorial is focused on using LSST software as a Python library, so this will be the last thing we run from the command-line.  Again, for more information about how to run LSST's existing processing scripts from the command-line, check out [DM Tech Note 23](https://dmtn-023.lsst.io/)."
   ]
  },
  {
   "cell_type": "markdown",
   "metadata": {},
   "source": [
    "## Data Access with Butler\n",
    "\n",
    "The outputs of `CmdLineTasks`, like their inputs, are organized into data repositories, which are managed by an object called `Butler`.  To retrieve a dataset from the `Butler`, we start by constructing one pointing to the output repository from the processing run (which is now an input repository for this `Butler`, which won't have an output repository since we won't be writing any more files):"
   ]
  },
  {
   "cell_type": "code",
   "execution_count": 4,
   "metadata": {
    "collapsed": true
   },
   "outputs": [],
   "source": [
    "from lsst.daf.persistence import Butler\n",
    "butler = Butler(inputs=os.path.join(WORK_DIR, \"rerun/isr\"))"
   ]
  },
  {
   "cell_type": "markdown",
   "metadata": {},
   "source": [
    "We can then call `get` with the name and data ID of the dataset.  The name of the image that's saved directly after ISR is `postISRCCD`."
   ]
  },
  {
   "cell_type": "code",
   "execution_count": 5,
   "metadata": {},
   "outputs": [],
   "source": [
    "exposure = butler.get(\"postISRCCD\", visit=903334, ccd=16)"
   ]
  },
  {
   "cell_type": "markdown",
   "metadata": {},
   "source": [
    "## Image, Boxes, and (Crude) Image Display\n",
    "\n",
    "A full 2k x 4k HSC CCD is a pretty big image to display when you don't have specialized display code.  The DM stack does have specialized display code, but it either requires DS9 (which requires some ssh tunnels to use with data living on a server) or a Firefly server installation. For this tutorial, we'll just throw together a naive matplotlib display function, and create a view to a subimage that we'll display instead of the full image.\n",
    "\n",
    "This section features a few of our most important class objects:\n",
    "\n",
    "- `lsst.afw.image.Exposure` is an image object that actually holds three image planes: the science image (`Exposure.image`), an image of variance in every pixel (`Exposure.variance`), an integer bit mask (`Exposure.mask`).  It also holds a lot of more complex objects that characterize the image, such as a point-spread function (`lsst.afw.detection.Psf`) and world-coordinate system (`lsst.afw.image.Wcs`).  Most of these objects aren't filled in yet, because all we've run so far is ISR.  It doesn't generally make sense to perform mathematical operations (i.e. addition) on `Exposure`s, because those operations aren't always well-defined on the more complex objects.  You can get a `MaskedImage` object with the same image, mask, and variance planes that does support mathematical operations but doesn't contain `Psf`s and `Wcs`s (etc) with `Exposure.maskedImage`.\n",
    "\n",
    "- The `Exposure.image` and `Exposure.variance` properties return `lsst.afw.image.Image` objects.  These have a `.array` property that returns a `numpy.ndarray` view to the `Image`'s pixels.  Conceptually, you should think of an `Image` as just a `numpy.ndarray` with a possibly nonzero origin.\n",
    "\n",
    "- The `Exposure.mask` property returns a `lsst.afw.image.Mask` object, which behaves like an `Image` with a dictionary-like object that relates string labels to bit numbers.\n",
    "\n",
    "- All of these image-like objects have a `getBBox()` method, which returns a `lsst.afw.geom.Box2I`.  The minimum and maximum points of a `Box2I` are specified in integers that correspond to the *centers* of the lower-left and upper-right pixels in the box, but the box conceptually contains the entirety of those pixels.  To get a box with a floating-point representation of the same boundary for the `extent` argument to `imshow` below, we construct a `Box2D` from the `Box2I`.\n",
    "\n",
    "- `Point2I` and `Extent2I` are used to represent absolute positions and offsets between positions as integers (respectively).  These have floating-point counterparts `Point2D` and `Extent2D`."
   ]
  },
  {
   "cell_type": "code",
   "execution_count": 6,
   "metadata": {
    "collapsed": true
   },
   "outputs": [],
   "source": [
    "from lsst.afw.geom import Box2D, Box2I, Point2I, Extent2I\n",
    "from lsst.afw.image import Exposure"
   ]
  },
  {
   "cell_type": "code",
   "execution_count": 7,
   "metadata": {},
   "outputs": [],
   "source": [
    "# Execute this cell (and the one below) to re-load the post-ISR Exposure from disk after\n",
    "# modifying it.\n",
    "exposure = butler.get(\"postISRCCD\", visit=903334, ccd=16)"
   ]
  },
  {
   "cell_type": "code",
   "execution_count": 8,
   "metadata": {
    "collapsed": true
   },
   "outputs": [],
   "source": [
    "bbox = exposure.getBBox()\n",
    "bbox.grow(-bbox.getDimensions()//3)  # box containing the central third (in each dimension)\n",
    "bbox.grow(-Extent2I(0, 400))  # make it a bit smaller in x\n",
    "# exposure[bbox] would also work here because exposure.getXY0() == (0, 0),\n",
    "# but it's dangerous in general because it ignores that origin.\n",
    "sub = Exposure(exposure, bbox=bbox, dtype=exposure.dtype, deep=False)"
   ]
  },
  {
   "cell_type": "code",
   "execution_count": 9,
   "metadata": {
    "collapsed": true
   },
   "outputs": [],
   "source": [
    "import numpy as np\n",
    "import matplotlib\n",
    "%matplotlib inline\n",
    "matplotlib.rcParams[\"figure.figsize\"] = (8, 6)\n",
    "matplotlib.rcParams[\"font.size\"] = 12"
   ]
  },
  {
   "cell_type": "code",
   "execution_count": 10,
   "metadata": {
    "collapsed": true
   },
   "outputs": [],
   "source": [
    "def display(image, mask=None, colors=None, alpha=0.40, **kwds):\n",
    "    box = Box2D(image.getBBox())\n",
    "    extent = (box.getMinX(), box.getMaxX(), box.getMinY(), box.getMaxY())\n",
    "    kwds.setdefault(\"extent\", extent)\n",
    "    kwds.setdefault(\"origin\", \"lower\")\n",
    "    kwds.setdefault(\"interpolation\", \"nearest\")\n",
    "    matplotlib.pyplot.imshow(image.array, **kwds)\n",
    "    kwds.pop(\"vmin\", None)\n",
    "    kwds.pop(\"vmax\", None)\n",
    "    kwds.pop(\"norm\", None)\n",
    "    kwds.pop(\"cmap\", None)\n",
    "    if mask is not None:\n",
    "        for plane, color in colors.items():\n",
    "            array = np.zeros(mask.array.shape + (4,), dtype=float)\n",
    "            rgba = np.array(matplotlib.colors.hex2color(matplotlib.colors.cnames[color]) + (alpha, ),\n",
    "                            dtype=float)\n",
    "            np.multiply.outer((mask.array & mask.getPlaneBitMask(plane)).astype(bool), rgba, out=array)\n",
    "            matplotlib.pyplot.imshow(array, **kwds)"
   ]
  },
  {
   "cell_type": "markdown",
   "metadata": {},
   "source": [
    "And now here's the (cutout) of the detrended image.  I've cheated in setting the scale by looking at the background level in advance."
   ]
  },
  {
   "cell_type": "code",
   "execution_count": 11,
   "metadata": {},
   "outputs": [
    {
     "data": {
      "image/png": "[encoded data removed]",
      "text/plain": [
       "<Figure size 432x288 with 1 Axes>"
      ]
     },
     "metadata": {},
     "output_type": "display_data"
    }
   ],
   "source": [
    "display(sub.image, vmin=175, vmax=300, cmap=matplotlib.cm.gray)"
   ]
  },
  {
   "cell_type": "markdown",
   "metadata": {},
   "source": [
    "## Background Subtraction and Task Configuration"
   ]
  },
  {
   "cell_type": "markdown",
   "metadata": {},
   "source": [
    "The next step we usually take is to estimate and subtract the background, using `lsst.meas.algorithms.SubtractBackgroundTask`.  This is a regular `Task`, not a `CmdLineTask`, and hence we'll just pass it our `Exposure` object (it operates in-place) instead of a `Butler`."
   ]
  },
  {
   "cell_type": "code",
   "execution_count": 12,
   "metadata": {
    "collapsed": true
   },
   "outputs": [],
   "source": [
    "from lsst.meas.algorithms import SubtractBackgroundTask"
   ]
  },
  {
   "cell_type": "code",
   "execution_count": 13,
   "metadata": {
    "collapsed": true
   },
   "outputs": [],
   "source": [
    "bkgConfig = SubtractBackgroundTask.ConfigClass()"
   ]
  },
  {
   "cell_type": "code",
   "execution_count": 14,
   "metadata": {
    "collapsed": true
   },
   "outputs": [],
   "source": [
    "# Execute this cell to get fun & terrible results!\n",
    "bkgConfig.useApprox = False\n",
    "bkgConfig.binSize = 20"
   ]
  },
  {
   "cell_type": "markdown",
   "metadata": {},
   "source": [
    "The pattern for configuration here is the same as it was for `SubaruIsrTask`, but here we're setting values directly instead of loading a configuration file from the `obs_subaru` camera-specialization package.  The `config` object here is an instance of a class that inherits from `lsst.pex.config.Config` that contains a set of `lsst.pex.config.Field` objects that define the options that can be modified.  Each `Field` behaves more or less like a Python `property`, and you can get information on all of the fields in a config object by either using `help`:"
   ]
  },
  {
   "cell_type": "code",
   "execution_count": 15,
   "metadata": {
    "collapsed": true
   },
   "outputs": [
    {
     "name": "stdout",
     "output_type": "stream",
     "text": [
      "Help on SubtractBackgroundConfig in module lsst.meas.algorithms.subtractBackground object:\n",
      "\n",
      "class SubtractBackgroundConfig(lsst.pex.config.config.Config)\n",
      " |  !Config for SubtractBackgroundTask\n",
      " |  \n",
      " |  @note Many of these fields match fields in lsst.afw.math.BackgroundControl,\n",
      " |  the control class for lsst.afw.math.makeBackground\n",
      " |  \n",
      " |  Method resolution order:\n",
      " |      SubtractBackgroundConfig\n",
      " |      lsst.pex.config.config.Config\n",
      " |      builtins.object\n",
      " |  \n",
      " |  Data descriptors defined here:\n",
      " |  \n",
      " |  statisticsProperty\n",
      " |      type of statistic to use for grid points (`str`, default ``'MEANCLIP'``)\n",
      " |      \n",
      " |      Allowed values:\n",
      " |      \n",
      " |      ``'MEANCLIP'``\n",
      " |        clipped mean\n",
      " |      ``'MEAN'``\n",
      " |        unclipped mean\n",
      " |      ``'MEDIAN'``\n",
      " |        median\n",
      " |      ``'None'``\n",
      " |        Field is optional\n",
      " |  \n",
      " |  undersampleStyle\n",
      " |      behaviour if there are too few points in grid for requested interpolation style (`str`, default ``'REDUCE_INTERP_ORDER'``)\n",
      " |      \n",
      " |      Allowed values:\n",
      " |      \n",
      " |      ``'THROW_EXCEPTION'``\n",
      " |        throw an exception if there are too few points\n",
      " |      ``'REDUCE_INTERP_ORDER'``\n",
      " |        use an interpolation style with a lower order.\n",
      " |      ``'INCREASE_NXNYSAMPLE'``\n",
      " |        Increase the number of samples used to make the interpolation grid.\n",
      " |      ``'None'``\n",
      " |        Field is optional\n",
      " |  \n",
      " |  binSize\n",
      " |      how large a region of the sky should be used for each background point (`int`, default ``128``)\n",
      " |      \n",
      " |      Valid Range = [1,inf)\n",
      " |  \n",
      " |  binSizeX\n",
      " |      Sky region size to be used for each background point in X direction. If 0, the binSize config is used. (`int`, default ``0``)\n",
      " |      \n",
      " |      Valid Range = [0,inf)\n",
      " |  \n",
      " |  binSizeY\n",
      " |      Sky region size to be used for each background point in Y direction. If 0, the binSize config is used. (`int`, default ``0``)\n",
      " |      \n",
      " |      Valid Range = [0,inf)\n",
      " |  \n",
      " |  algorithm\n",
      " |      how to interpolate the background values. This maps to an enum; see afw::math::Background (`str`, default ``'AKIMA_SPLINE'``)\n",
      " |      \n",
      " |      Allowed values:\n",
      " |      \n",
      " |      ``'CONSTANT'``\n",
      " |        Use a single constant value\n",
      " |      ``'LINEAR'``\n",
      " |        Use linear interpolation\n",
      " |      ``'NATURAL_SPLINE'``\n",
      " |        cubic spline with zero second derivative at endpoints\n",
      " |      ``'AKIMA_SPLINE'``\n",
      " |        higher-level nonlinear spline that is more robust to outliers\n",
      " |      ``'NONE'``\n",
      " |        No background estimation is to be attempted\n",
      " |      ``'None'``\n",
      " |        Field is optional\n",
      " |  \n",
      " |  ignoredPixelMask\n",
      " |      Names of mask planes to ignore while estimating the background (`List`, default ``['BAD', 'EDGE', 'DETECTED', 'DETECTED_NEGATIVE', 'NO_DATA']``)\n",
      " |  \n",
      " |  isNanSafe\n",
      " |      Ignore NaNs when estimating the background (`bool`, default ``False``)\n",
      " |  \n",
      " |  useApprox\n",
      " |      Use Approximate (Chebyshev) to model background. (`bool`, default ``True``)\n",
      " |  \n",
      " |  approxOrderX\n",
      " |      Approximation order in X for background Chebyshev (valid only with useApprox=True) (`int`, default ``6``)\n",
      " |  \n",
      " |  approxOrderY\n",
      " |      Approximation order in Y for background Chebyshev (valid only with useApprox=True) (`int`, default ``-1``)\n",
      " |  \n",
      " |  weighting\n",
      " |      Use inverse variance weighting in calculation (valid only with useApprox=True) (`bool`, default ``True``)\n",
      " |  \n",
      " |  ----------------------------------------------------------------------\n",
      " |  Data and other attributes defined here:\n",
      " |  \n",
      " |  _fields = {'algorithm': <lsst.pex.config.choiceField.ChoiceField objec...\n",
      " |  \n",
      " |  _source = StackFrame(meas/algorithms/subtractBackground.py, 38, <modul...\n",
      " |  \n",
      " |  ----------------------------------------------------------------------\n",
      " |  Methods inherited from lsst.pex.config.config.Config:\n",
      " |  \n",
      " |  __contains__(self, name)\n",
      " |      !Return True if the specified field exists in this config\n",
      " |      \n",
      " |      @param[in] name  field name to test for\n",
      " |  \n",
      " |  __delattr__(self, attr, at=None, label='deletion')\n",
      " |      Implement delattr(self, name).\n",
      " |  \n",
      " |  __eq__(self, other)\n",
      " |      Return self==value.\n",
      " |  \n",
      " |  __iter__(self)\n",
      " |      !Iterate over fields\n",
      " |  \n",
      " |  __ne__(self, other)\n",
      " |      Return self!=value.\n",
      " |  \n",
      " |  __reduce__(self)\n",
      " |      Reduction for pickling (function with arguments to reproduce).\n",
      " |      \n",
      " |      We need to condense and reconstitute the Config, since it may contain lambdas\n",
      " |      (as the 'check' elements) that cannot be pickled.\n",
      " |  \n",
      " |  __repr__(self)\n",
      " |      Return repr(self).\n",
      " |  \n",
      " |  __setattr__(self, attr, value, at=None, label='assignment')\n",
      " |      !Regulate which attributes can be set\n",
      " |      \n",
      " |      Unlike normal python objects, Config objects are locked such\n",
      " |      that no additional attributes nor properties may be added to them\n",
      " |      dynamically.\n",
      " |      \n",
      " |      Although this is not the standard Python behavior, it helps to\n",
      " |      protect users from accidentally mispelling a field name, or\n",
      " |      trying to set a non-existent field.\n",
      " |  \n",
      " |  __str__(self)\n",
      " |      Return str(self).\n",
      " |  \n",
      " |  _rename(self, name)\n",
      " |      !Rename this Config object in its parent config\n",
      " |      \n",
      " |      @param[in] name  new name for this config in its parent config\n",
      " |      \n",
      " |      Correct behavior is dependent on proper implementation of Field.rename. If implementing a new\n",
      " |      Field type, you may need to implement your own rename method.\n",
      " |  \n",
      " |  _save(self, outfile)\n",
      " |      !Save this Config to an open stream object\n",
      " |  \n",
      " |  compare(self, other, shortcut=True, rtol=1e-08, atol=1e-08, output=None)\n",
      " |      !Compare two Configs for equality; return True if equal\n",
      " |      \n",
      " |      If the Configs contain RegistryFields or ConfigChoiceFields, unselected Configs\n",
      " |      will not be compared.\n",
      " |      \n",
      " |      @param[in] other      Config object to compare with self.\n",
      " |      @param[in] shortcut   If True, return as soon as an inequality is found.\n",
      " |      @param[in] rtol       Relative tolerance for floating point comparisons.\n",
      " |      @param[in] atol       Absolute tolerance for floating point comparisons.\n",
      " |      @param[in] output     If not None, a callable that takes a string, used (possibly repeatedly)\n",
      " |                            to report inequalities.\n",
      " |      \n",
      " |      Floating point comparisons are performed by numpy.allclose; refer to that for details.\n",
      " |  \n",
      " |  formatHistory(self, name, **kwargs)\n",
      " |      !Format the specified config field's history to a more human-readable format\n",
      " |      \n",
      " |      @param[in] name  name of field whose history is wanted\n",
      " |      @param[in] kwargs  keyword arguments for lsst.pex.config.history.format\n",
      " |      @return a string containing the formatted history\n",
      " |  \n",
      " |  freeze(self)\n",
      " |      !Make this Config and all sub-configs read-only\n",
      " |  \n",
      " |  items(self)\n",
      " |      !Return the list of (field name, field value) pairs\n",
      " |  \n",
      " |  iteritems(self)\n",
      " |      !Iterate over (field name, field value) pairs\n",
      " |  \n",
      " |  iterkeys(self)\n",
      " |      !Iterate over field names\n",
      " |  \n",
      " |  itervalues(self)\n",
      " |      !Iterate over field values\n",
      " |  \n",
      " |  keys(self)\n",
      " |      !Return the list of field names\n",
      " |  \n",
      " |  load(self, filename, root='config')\n",
      " |      !Modify this config in place by executing the Python code in the named file.\n",
      " |      \n",
      " |      @param[in] filename  name of file containing config override code\n",
      " |      @param[in] root  name of variable in file that refers to the config being overridden\n",
      " |      \n",
      " |      For example: if the value of root is \"config\" and the file contains this text:\n",
      " |      \"config.myField = 5\" then this config's field \"myField\" is set to 5.\n",
      " |      \n",
      " |      @deprecated For purposes of backwards compatibility, older config files that use\n",
      " |      root=\"root\" instead of root=\"config\" will be loaded with a warning printed to sys.stderr.\n",
      " |      This feature will be removed at some point.\n",
      " |  \n",
      " |  loadFromStream(self, stream, root='config', filename=None)\n",
      " |      !Modify this config in place by executing the python code in the provided stream.\n",
      " |      \n",
      " |      @param[in] stream  open file object, string or compiled string containing config override code\n",
      " |      @param[in] root  name of variable in stream that refers to the config being overridden\n",
      " |      @param[in] filename  name of config override file, or None if unknown or contained\n",
      " |          in the stream; used for error reporting\n",
      " |      \n",
      " |      For example: if the value of root is \"config\" and the stream contains this text:\n",
      " |      \"config.myField = 5\" then this config's field \"myField\" is set to 5.\n",
      " |      \n",
      " |      @deprecated For purposes of backwards compatibility, older config files that use\n",
      " |      root=\"root\" instead of root=\"config\" will be loaded with a warning printed to sys.stderr.\n",
      " |      This feature will be removed at some point.\n",
      " |  \n",
      " |  save(self, filename, root='config')\n",
      " |      !Save a python script to the named file, which, when loaded, reproduces this Config\n",
      " |      \n",
      " |      @param[in] filename  name of file to which to write the config\n",
      " |      @param[in] root  name to use for the root config variable; the same value must be used when loading\n",
      " |  \n",
      " |  saveToStream(self, outfile, root='config')\n",
      " |      !Save a python script to a stream, which, when loaded, reproduces this Config\n",
      " |      \n",
      " |      @param outfile [inout] open file object to which to write the config. Accepts strings not bytes.\n",
      " |      @param root [in] name to use for the root config variable; the same value must be used when loading\n",
      " |  \n",
      " |  setDefaults(self)\n",
      " |      Derived config classes that must compute defaults rather than using the\n",
      " |      Field defaults should do so here.\n",
      " |      To correctly use inherited defaults, implementations of setDefaults()\n",
      " |      must call their base class' setDefaults()\n",
      " |  \n",
      " |  toDict(self)\n",
      " |      !Return a dict of field name: value\n",
      " |      \n",
      " |      Correct behavior is dependent on proper implementation of  Field.toDict. If implementing a new\n",
      " |      Field type, you may need to implement your own toDict method.\n",
      " |  \n",
      " |  update(self, **kw)\n",
      " |      !Update values specified by the keyword arguments\n",
      " |      \n",
      " |      @warning The '__at' and '__label' keyword arguments are special internal\n",
      " |      keywords. They are used to strip out any internal steps from the\n",
      " |      history tracebacks of the config. Modifying these keywords allows users\n",
      " |      to lie about a Config's history. Please do not do so!\n",
      " |  \n",
      " |  validate(self)\n",
      " |      !Validate the Config; raise an exception if invalid\n",
      " |      \n",
      " |      The base class implementation performs type checks on all fields by\n",
      " |      calling Field.validate().\n",
      " |      \n",
      " |      Complex single-field validation can be defined by deriving new Field\n",
      " |      types. As syntactic sugar, some derived Field types are defined in\n",
      " |      this module which handle recursing into sub-configs\n",
      " |      (ConfigField, ConfigChoiceField)\n",
      " |      \n",
      " |      Inter-field relationships should only be checked in derived Config\n",
      " |      classes after calling this method, and base validation is complete\n",
      " |  \n",
      " |  values(self)\n",
      " |      !Return the list of field values\n",
      " |  \n",
      " |  ----------------------------------------------------------------------\n",
      " |  Static methods inherited from lsst.pex.config.config.Config:\n",
      " |  \n",
      " |  __new__(cls, *args, **kw)\n",
      " |      !Allocate a new Config object.\n",
      " |      \n",
      " |      In order to ensure that all Config object are always in a proper\n",
      " |      state when handed to users or to derived Config classes, some\n",
      " |      attributes are handled at allocation time rather than at initialization\n",
      " |      \n",
      " |      This ensures that even if a derived Config class implements __init__,\n",
      " |      the author does not need to be concerned about when or even if he\n",
      " |      should call the base Config.__init__\n",
      " |  \n",
      " |  ----------------------------------------------------------------------\n",
      " |  Data descriptors inherited from lsst.pex.config.config.Config:\n",
      " |  \n",
      " |  __dict__\n",
      " |      dictionary for instance variables (if defined)\n",
      " |  \n",
      " |  __weakref__\n",
      " |      list of weak references to the object (if defined)\n",
      " |  \n",
      " |  history\n",
      " |  \n",
      " |  ----------------------------------------------------------------------\n",
      " |  Data and other attributes inherited from lsst.pex.config.config.Config:\n",
      " |  \n",
      " |  __hash__ = None\n",
      "\n"
     ]
    }
   ],
   "source": [
    "help(bkgConfig)"
   ]
  },
  {
   "cell_type": "code",
   "execution_count": 16,
   "metadata": {
    "collapsed": true
   },
   "outputs": [
    {
     "data": {
      "text/plain": [
       "\u001b[0;31mType:\u001b[0m            ChoiceField\n",
       "\u001b[0;31mString form:\u001b[0m     <lsst.pex.config.choiceField.ChoiceField object at 0x7f049546c0f0>\n",
       "\u001b[0;31mFile:\u001b[0m            /opt/lsst/software/stack/stack/miniconda3-4.5.4-10a4fa6/Linux64/pex_config/16.0+3/python/lsst/pex/config/choiceField.py\n",
       "\u001b[0;31mDocstring:\u001b[0m      \n",
       "how to interpolate the background values. This maps to an enum; see afw::math::Background (`str`, default ``'AKIMA_SPLINE'``)\n",
       "\n",
       "Allowed values:\n",
       "\n",
       "``'CONSTANT'``\n",
       "  Use a single constant value\n",
       "``'LINEAR'``\n",
       "  Use linear interpolation\n",
       "``'NATURAL_SPLINE'``\n",
       "  cubic spline with zero second derivative at endpoints\n",
       "``'AKIMA_SPLINE'``\n",
       "  higher-level nonlinear spline that is more robust to outliers\n",
       "``'NONE'``\n",
       "  No background estimation is to be attempted\n",
       "``'None'``\n",
       "  Field is optional\n",
       "\u001b[0;31mClass docstring:\u001b[0m\n",
       "Defines a Config Field which allows only a set of values\n",
       "All allowed must be of the same type.\n",
       "Allowed values should be provided as a dict of value, doc string pairs\n",
       "\u001b[0;31mInit docstring:\u001b[0m \n",
       "Initialize a Field.\n",
       "\n",
       "dtype ------ Data type for the field.\n",
       "doc -------- Documentation for the field.\n",
       "default ---- A default value for the field.\n",
       "check ------ A callable to be called with the field value that returns\n",
       "             False if the value is invalid.  More complex inter-field\n",
       "             validation can be written as part of Config validate()\n",
       "             method; this will be ignored if set to None.\n",
       "optional --- When False, Config validate() will fail if value is None\n"
      ]
     },
     "metadata": {},
     "output_type": "display_data"
    }
   ],
   "source": [
    "SubtractBackgroundTask.ConfigClass.algorithm?"
   ]
  },
  {
   "cell_type": "code",
   "execution_count": 17,
   "metadata": {
    "collapsed": true
   },
   "outputs": [],
   "source": [
    "bkgTask = SubtractBackgroundTask(config=bkgConfig)"
   ]
  },
  {
   "cell_type": "code",
   "execution_count": 18,
   "metadata": {
    "collapsed": true
   },
   "outputs": [],
   "source": [
    "bkgResult = bkgTask.run(exposure)"
   ]
  },
  {
   "cell_type": "code",
   "execution_count": 19,
   "metadata": {},
   "outputs": [
    {
     "data": {
      "image/png": "[encoded data removed]",
      "text/plain": [
       "<Figure size 432x288 with 1 Axes>"
      ]
     },
     "metadata": {},
     "output_type": "display_data"
    }
   ],
   "source": [
    "display(sub.image, vmin=-0.5, vmax=100, cmap=matplotlib.cm.gray)"
   ]
  },
  {
   "cell_type": "markdown",
   "metadata": {},
   "source": [
    "If you've run through all of these steps after executing the cell that warns about terrible results, you should notice that the galaxy in the upper right has been oversubtracted.\n",
    "\n",
    "**EXERCISE**: Before continuing on, re-load the exposure from disk, reset the configuration and `Task` instances, and re-run without executing the cell that applies bad values to the config, all by just re-executing the right cells above.  You should end up an image in which the upper-right galaxy looks essentially the same as it does in the image before we subtracted the background."
   ]
  },
  {
   "cell_type": "markdown",
   "metadata": {},
   "source": [
    "**ANSWER:**"
   ]
  },
  {
   "cell_type": "code",
   "execution_count": null,
   "metadata": {},
   "outputs": [],
   "source": [
    "exposure = butler.get(\"postISRCCD\", visit=903334, ccd=16)\n",
    "sub = Exposure(exposure, bbox=bbox, dtype=exposure.dtype, deep=False)"
   ]
  },
  {
   "cell_type": "markdown",
   "metadata": {},
   "source": [
    "We could construct a new instance of `SubtractBackgroundTask.ConfigClass` and pass it unmodified to the constructor (and that's what you'd get by strictly copying existing cells), but it also works to just construct the task with no arguments."
   ]
  },
  {
   "cell_type": "code",
   "execution_count": null,
   "metadata": {
    "collapsed": true
   },
   "outputs": [],
   "source": [
    "bkgTask = SubtractBackgroundTask()"
   ]
  },
  {
   "cell_type": "code",
   "execution_count": null,
   "metadata": {
    "collapsed": true
   },
   "outputs": [],
   "source": [
    "bkgResult = bkgTask.run(exposure)"
   ]
  },
  {
   "cell_type": "markdown",
   "metadata": {},
   "source": [
    "## Installing an Initial-Guess PSF"
   ]
  },
  {
   "cell_type": "markdown",
   "metadata": {},
   "source": [
    "Most later processing steps require a PSF model, which is represented by a `Psf` object that's attached to the `Exposure`.  For now, we'll just make a Gaussian PSF with some guess at the seeing."
   ]
  },
  {
   "cell_type": "code",
   "execution_count": null,
   "metadata": {
    "collapsed": true
   },
   "outputs": [],
   "source": [
    "from lsst.meas.algorithms import SingleGaussianPsf"
   ]
  },
  {
   "cell_type": "code",
   "execution_count": null,
   "metadata": {
    "collapsed": true
   },
   "outputs": [],
   "source": [
    "FWHM_TO_SIGMA = 1.0/(2*np.sqrt(2*np.log(2)))\n",
    "PIXEL_SCALE = 0.168  # arcsec/pixel\n",
    "SEEING = 0.7         # FWHM in arcsec\n",
    "sigma = FWHM_TO_SIGMA*SEEING/PIXEL_SCALE\n",
    "width = int(sigma*3)*2 + 1\n",
    "psf = SingleGaussianPsf(width, width, sigma=sigma)\n",
    "exposure.setPsf(psf)"
   ]
  },
  {
   "cell_type": "markdown",
   "metadata": {},
   "source": [
    "A `Psf` object can basically just do one thing: it can return an image of itself at a point.  `SingleGaussianPsf` represents a constant PSF, so it always returns the same image, regardless of the point you give it.\n",
    "\n",
    "But there are two ways to evaluate a `Psf` at a point.  If you want an image centered on the middle pixel, and that middle pixel to be the origin - what you'd usually want if you're going to convolve the PSF with another model - use `computeKernelImage(point)`:"
   ]
  },
  {
   "cell_type": "code",
   "execution_count": null,
   "metadata": {},
   "outputs": [],
   "source": [
    "from lsst.afw.geom import Point2D\n",
    "display(psf.computeKernelImage(Point2D(60.5, 7.2)))"
   ]
  },
  {
   "cell_type": "markdown",
   "metadata": {},
   "source": [
    "If you want to compare the PSF to a star at the exact same position, use `computeImage(point)`.  That will shift the image returned by `computeKernelImage(point)` to the right sub-pixel offset, and update the origin of the image to take care of the rest, so you end up with a postage stamp in the same coordinate system as the original image where the star is."
   ]
  },
  {
   "cell_type": "code",
   "execution_count": null,
   "metadata": {},
   "outputs": [],
   "source": [
    "display(psf.computeImage(Point2D(60.5, 7.2)))"
   ]
  },
  {
   "cell_type": "markdown",
   "metadata": {},
   "source": [
    "## Removing Cosmic Rays\n",
    "\n",
    "Cosmic rays are detected and interpolated by `RepairTask`, which also sets mask planes to indicate where the cosmic rays were (\"CR\") and which pixels were interpolated (\"INTERP\"; this may happen due to saturation or bad pixels as well).  Because we're just using the default configuration, we can skip creating a config object and just construct the `Task` with no arguments."
   ]
  },
  {
   "cell_type": "code",
   "execution_count": null,
   "metadata": {
    "collapsed": true
   },
   "outputs": [],
   "source": [
    "from lsst.pipe.tasks.repair import RepairTask"
   ]
  },
  {
   "cell_type": "code",
   "execution_count": null,
   "metadata": {
    "collapsed": true
   },
   "outputs": [],
   "source": [
    "repairTask = RepairTask()"
   ]
  },
  {
   "cell_type": "code",
   "execution_count": null,
   "metadata": {
    "collapsed": true
   },
   "outputs": [],
   "source": [
    "repairTask.run(exposure)"
   ]
  },
  {
   "cell_type": "code",
   "execution_count": null,
   "metadata": {},
   "outputs": [],
   "source": [
    "display(sub.image, mask=sub.mask, colors={\"CR\": \"red\"},\n",
    "        vmin=-0.5, vmax=100, alpha=0.8, cmap=matplotlib.cm.gray)"
   ]
  },
  {
   "cell_type": "markdown",
   "metadata": {},
   "source": [
    "## Detecting Sources\n",
    "\n",
    "Unlike the other `Task`s we've dealt with so far, `SourceDetectionTask` creates a `SourceCatalog` in addition to updating the image (all it does to the image is add a \"DETECTED\" mask plane).  All `Task`s that work with catalogs need to be initialized with a `lsst.afw.table.Schema` object, to which the `Task` will add the fields necessary to store its outputs.  A `SourceCatalog`'s `Schema` cannot be modified after the `SourceCatalog` has been constructed, which means it's necessary to construct all `Schema`-using `Task`s before actually running any of them.\n",
    "\n",
    "Each record in the catalog returned by `SourceDetectionTask` has a `Footprint` object attached to it.  A `Footprint` represents the approximate region covered by a source in a run-length encoding data structure.  It also contains a list of peaks found within that region.  The \"DETECTED\" mask plane is set to exactly the pixels covered by any `Footprint` in the returned catalog."
   ]
  },
  {
   "cell_type": "code",
   "execution_count": null,
   "metadata": {
    "collapsed": true
   },
   "outputs": [],
   "source": [
    "from lsst.meas.algorithms import SourceDetectionTask\n",
    "from lsst.afw.table import SourceTable, SourceCatalog"
   ]
  },
  {
   "cell_type": "code",
   "execution_count": null,
   "metadata": {
    "collapsed": true
   },
   "outputs": [],
   "source": [
    "schema = SourceTable.makeMinimalSchema()"
   ]
  },
  {
   "cell_type": "code",
   "execution_count": null,
   "metadata": {
    "collapsed": true
   },
   "outputs": [],
   "source": [
    "detectTask = SourceDetectionTask(schema=schema)"
   ]
  },
  {
   "cell_type": "code",
   "execution_count": null,
   "metadata": {
    "collapsed": true
   },
   "outputs": [],
   "source": [
    "# A SourceTable is really just a factory object for records; don't confuse it with SourceCatalog, which is\n",
    "# usually what you want.  But a SourceTable *is* what SourceDetectionTask wants here.\n",
    "table = SourceTable.make(schema)"
   ]
  },
  {
   "cell_type": "code",
   "execution_count": null,
   "metadata": {
    "collapsed": true
   },
   "outputs": [],
   "source": [
    "detectResult = detectTask.run(table, exposure)"
   ]
  },
  {
   "cell_type": "code",
   "execution_count": null,
   "metadata": {},
   "outputs": [],
   "source": [
    "display(sub.image, mask=sub.mask, colors={\"DETECTED\": \"blue\"}, vmin=-0.5, vmax=100, cmap=matplotlib.cm.gray)"
   ]
  },
  {
   "cell_type": "markdown",
   "metadata": {},
   "source": [
    "## Deblending\n",
    "\n",
    "Deblending attempts to separate detections with multiple peaks into separate objects.  We keep all of the original sources in the `SourceCatalog` (called `parent`s) when we deblend, but for each `parent` source that contains more than one peak, we create a new record (called a `child`) for each of those peaks.  The `Footprint`s attached to the `child` objects are instances of a subclass called `HeavyFootprint`, which include new deblended pixel values as well as the region description.  These can be used by calling `insert` to replace an `Image`'s pixels with the `HeavyFootprint`'s pixels.\n",
    "\n",
    "**EXERCISE**: This section will not run if the cells are executed naively in order.  At some point you'll have to go re-execute one or more cells in the previous section to get the right behavior.  Which one(s)?  Why?  Copy those cells here (in the right places) when you figure it out."
   ]
  },
  {
   "cell_type": "markdown",
   "metadata": {},
   "source": [
    "**ANSWER:**"
   ]
  },
  {
   "cell_type": "code",
   "execution_count": null,
   "metadata": {
    "collapsed": true
   },
   "outputs": [],
   "source": [
    "from lsst.meas.deblender import SourceDeblendTask"
   ]
  },
  {
   "cell_type": "markdown",
   "metadata": {},
   "source": [
    "It isn't necessary to re-load the `Exposure` from disk (and re-do background subtraction) to get this exercise to run, but not doing so will result in re-subtracting the residual background repeatedly every time `SourceDetectionTask` is run, which means the results will change slightly each time."
   ]
  },
  {
   "cell_type": "code",
   "execution_count": null,
   "metadata": {},
   "outputs": [],
   "source": [
    "exposure = butler.get(\"postISRCCD\", visit=903334, ccd=16)\n",
    "sub = Exposure(exposure, bbox=bbox, dtype=exposure.dtype, deep=False)\n",
    "exposure.setPsf(psf)"
   ]
  },
  {
   "cell_type": "markdown",
   "metadata": {},
   "source": [
    "It isn't necessary to construct all of these tasks before running any of them (just the ones that take and modify a schema), but it's easier to get things right if you follow that principle."
   ]
  },
  {
   "cell_type": "code",
   "execution_count": null,
   "metadata": {
    "collapsed": true
   },
   "outputs": [],
   "source": [
    "schema = SourceTable.makeMinimalSchema()\n",
    "bkgTask = SubtractBackgroundTask()\n",
    "repairTask = RepairTask()\n",
    "detectTask = SourceDetectionTask(schema=schema)"
   ]
  },
  {
   "cell_type": "code",
   "execution_count": null,
   "metadata": {},
   "outputs": [],
   "source": [
    "deblendTask = SourceDeblendTask(schema=schema)"
   ]
  },
  {
   "cell_type": "markdown",
   "metadata": {},
   "source": [
    "Now we run the tasks from the previous sections:"
   ]
  },
  {
   "cell_type": "code",
   "execution_count": null,
   "metadata": {
    "collapsed": true
   },
   "outputs": [],
   "source": [
    "bkgResult = bkgTask.run(exposure)\n",
    "repairTask.run(exposure)\n",
    "table = SourceTable.make(schema)\n",
    "detectResult = detectTask.run(table, exposure)"
   ]
  },
  {
   "cell_type": "markdown",
   "metadata": {},
   "source": [
    "And, finally, we can run the task introduced in this section."
   ]
  },
  {
   "cell_type": "code",
   "execution_count": null,
   "metadata": {
    "collapsed": true
   },
   "outputs": [],
   "source": [
    "catalog = detectResult.sources"
   ]
  },
  {
   "cell_type": "code",
   "execution_count": null,
   "metadata": {
    "collapsed": true
   },
   "outputs": [],
   "source": [
    "deblendTask.run(exposure, catalog)"
   ]
  },
  {
   "cell_type": "markdown",
   "metadata": {},
   "source": [
    "To inspect some deblender outputs, we'll start by finding some parent objects that were deblended into multiple children, by looking at the `deblend_nChild` field (which was added to the `Schema` when we constructed the `SourceDeblendTask`, and populated when we called `run`)."
   ]
  },
  {
   "cell_type": "code",
   "execution_count": null,
   "metadata": {
    "collapsed": true
   },
   "outputs": [],
   "source": [
    "# Find some blended sources inside the subimage:\n",
    "blendParents = []\n",
    "for record in catalog:\n",
    "    if record.get(\"deblend_nChild\") > 0 and bbox.contains(record.getFootprint().getBBox()):\n",
    "        blendParents.append(record)\n",
    "# Sort by peak brightness so we can look at something with decent S/N\n",
    "blendParents.sort(key=lambda r: -r.getFootprint().getPeaks()[0].getPeakValue())"
   ]
  },
  {
   "cell_type": "code",
   "execution_count": null,
   "metadata": {
    "collapsed": true
   },
   "outputs": [],
   "source": [
    "from lsst.afw.image import Image"
   ]
  },
  {
   "cell_type": "markdown",
   "metadata": {},
   "source": [
    "The image of the parent object is just the original image, but we'll cut out just the region inside its `Footprint`:"
   ]
  },
  {
   "cell_type": "code",
   "execution_count": null,
   "metadata": {
    "collapsed": true
   },
   "outputs": [],
   "source": [
    "blendParentImage = Image(exposure.image, bbox=blendParents[0].getFootprint().getBBox(),\n",
    "                         deep=True, dtype=np.float32)"
   ]
  },
  {
   "cell_type": "markdown",
   "metadata": {},
   "source": [
    "Now we'll insert the deblended child pixels into blank images of the same size:"
   ]
  },
  {
   "cell_type": "code",
   "execution_count": null,
   "metadata": {
    "collapsed": true
   },
   "outputs": [],
   "source": [
    "blendChildImages = []\n",
    "for blendChild in catalog.getChildren(blendParents[0].getId()):\n",
    "    image = Image(blendParentImage.getBBox(), dtype=np.float32)\n",
    "    blendChild.getFootprint().insert(image)\n",
    "    blendChildImages.append(image)"
   ]
  },
  {
   "cell_type": "code",
   "execution_count": null,
   "metadata": {},
   "outputs": [],
   "source": [
    "nSubPlots = len(blendChildImages) + 1\n",
    "nCols = 3\n",
    "nRows = nSubPlots//nCols + 1\n",
    "matplotlib.pyplot.subplot(nRows, nCols, 1)\n",
    "display(blendParentImage, vmin=-0.5, vmax=100, cmap=matplotlib.cm.gray)\n",
    "for n, image in enumerate(blendChildImages):\n",
    "    matplotlib.pyplot.subplot(nRows, nCols, n + 2)\n",
    "    display(image, vmin=-0.5, vmax=100, cmap=matplotlib.cm.gray)"
   ]
  },
  {
   "cell_type": "markdown",
   "metadata": {},
   "source": [
    "## Measurement\n",
    "\n",
    "`SingleFrameMeasurementTask` is typically responsible for adding most fields to a `SourceCatalog`.  It runs a series of plugins that make different measurements (you can configure them with the `.plugins` dictionary-like field on its config object, and control which are run with `.names`).  If the deblender has been run first, it will measure child objects using their deblended pixels.\n",
    "\n",
    "**EXERCISE**: Like the Deblending section, you'll have to re-execute some previous cells somewhere in this section to get the right behavior.  Copy those cells into the right places here once you've gotten it working."
   ]
  },
  {
   "cell_type": "markdown",
   "metadata": {},
   "source": [
    "**ANSWER:** As in the Deblending section exercise, we reload the exposure, create all of the tasks, and then run all of the tasks."
   ]
  },
  {
   "cell_type": "code",
   "execution_count": null,
   "metadata": {
    "collapsed": true
   },
   "outputs": [],
   "source": [
    "from lsst.meas.base import SingleFrameMeasurementTask"
   ]
  },
  {
   "cell_type": "code",
   "execution_count": null,
   "metadata": {},
   "outputs": [],
   "source": [
    "exposure = butler.get(\"postISRCCD\", visit=903334, ccd=16)\n",
    "sub = Exposure(exposure, bbox=bbox, dtype=exposure.dtype, deep=False)\n",
    "exposure.setPsf(psf)"
   ]
  },
  {
   "cell_type": "code",
   "execution_count": null,
   "metadata": {
    "collapsed": true
   },
   "outputs": [],
   "source": [
    "schema = SourceTable.makeMinimalSchema()\n",
    "bkgTask = SubtractBackgroundTask()\n",
    "repairTask = RepairTask()\n",
    "detectTask = SourceDetectionTask(schema=schema)\n",
    "deblendTask = SourceDeblendTask(schema=schema)"
   ]
  },
  {
   "cell_type": "code",
   "execution_count": null,
   "metadata": {
    "collapsed": true
   },
   "outputs": [],
   "source": [
    "measureConfig = SingleFrameMeasurementTask.ConfigClass()"
   ]
  },
  {
   "cell_type": "code",
   "execution_count": null,
   "metadata": {},
   "outputs": [],
   "source": [
    "# What measurements are configured to run\n",
    "print(measureConfig.plugins.names)"
   ]
  },
  {
   "cell_type": "code",
   "execution_count": null,
   "metadata": {
    "collapsed": true
   },
   "outputs": [],
   "source": [
    "# Import an extension module that adds a new measurement\n",
    "import lsst.meas.extensions.photometryKron"
   ]
  },
  {
   "cell_type": "code",
   "execution_count": null,
   "metadata": {},
   "outputs": [],
   "source": [
    "# What measurements *could* be configured to run\n",
    "print(list(measureConfig.plugins.keys()))"
   ]
  },
  {
   "cell_type": "code",
   "execution_count": null,
   "metadata": {
    "collapsed": true
   },
   "outputs": [],
   "source": [
    "# Configure the new measurement to run\n",
    "measureConfig.plugins.names.add(\"ext_photometryKron_KronFlux\")"
   ]
  },
  {
   "cell_type": "code",
   "execution_count": null,
   "metadata": {
    "collapsed": true
   },
   "outputs": [],
   "source": [
    "measureTask = SingleFrameMeasurementTask(schema=schema, config=measureConfig)"
   ]
  },
  {
   "cell_type": "code",
   "execution_count": null,
   "metadata": {
    "collapsed": true
   },
   "outputs": [],
   "source": [
    "bkgResult = bkgTask.run(exposure)\n",
    "repairTask.run(exposure)\n",
    "table = SourceTable.make(schema)\n",
    "detectResult = detectTask.run(table, exposure)\n",
    "catalog = detectResult.sources\n",
    "deblendTask.run(exposure, catalog)"
   ]
  },
  {
   "cell_type": "code",
   "execution_count": null,
   "metadata": {
    "collapsed": true
   },
   "outputs": [],
   "source": [
    "measureTask.run(catalog, exposure)"
   ]
  },
  {
   "cell_type": "markdown",
   "metadata": {},
   "source": [
    "We'll show some of the results of measurement by overlaying the measured ellipses on the image.\n",
    "\n",
    "The shapes and centroids we use here (by calling `record.getX()`, `record.getY()`, `record.getShape()`) are aliases  (called \"slots\") to fields with longer names that are our recommended measurements for these quantities.  You can see the set of aliases by printing the schema (see next section)."
   ]
  },
  {
   "cell_type": "code",
   "execution_count": null,
   "metadata": {
    "collapsed": true
   },
   "outputs": [],
   "source": [
    "from lsst.afw.geom.ellipses import Axes"
   ]
  },
  {
   "cell_type": "code",
   "execution_count": null,
   "metadata": {},
   "outputs": [],
   "source": [
    "display(sub.image, mask=sub.mask, colors={\"DETECTED\": \"blue\"}, vmin=-0.5, vmax=100, cmap=matplotlib.cm.gray)\n",
    "\n",
    "for record in catalog:\n",
    "    if record.get(\"deblend_nChild\") != 0:\n",
    "        continue\n",
    "    axes = Axes(record.getShape())   # convert to A, B, THETA parameterization\n",
    "    axes.scale(2.0)  # matplotlib uses diameters, not radii\n",
    "    patch = matplotlib.patches.Ellipse((record.getX(), record.getY()),\n",
    "                                       axes.getA(), axes.getB(), axes.getTheta() * 180.0 / np.pi,\n",
    "                                      fill=False, edgecolor=\"green\")\n",
    "    matplotlib.pyplot.gca().add_patch(patch)\n",
    "matplotlib.pyplot.show()"
   ]
  },
  {
   "cell_type": "markdown",
   "metadata": {},
   "source": [
    "## Working With Catalogs"
   ]
  },
  {
   "cell_type": "markdown",
   "metadata": {},
   "source": [
    "Print the schema:"
   ]
  },
  {
   "cell_type": "code",
   "execution_count": null,
   "metadata": {
    "collapsed": true
   },
   "outputs": [],
   "source": [
    "print(catalog.getSchema())"
   ]
  },
  {
   "cell_type": "markdown",
   "metadata": {},
   "source": [
    "Get arrays of columns (requires the catalog to be continguous in memory, which we can guarantee with a deep copy):"
   ]
  },
  {
   "cell_type": "code",
   "execution_count": null,
   "metadata": {
    "collapsed": true
   },
   "outputs": [],
   "source": [
    "catalog = catalog.copy(deep=True)"
   ]
  },
  {
   "cell_type": "code",
   "execution_count": null,
   "metadata": {
    "collapsed": true
   },
   "outputs": [],
   "source": [
    "psfFlux = catalog[\"base_PsfFlux_flux\"]"
   ]
  },
  {
   "cell_type": "markdown",
   "metadata": {},
   "source": [
    "Note that boolean values are stored in `Flag` columns, which are packed into bits.  Unlike other column types, when you get an array of a `Flag` column, you get a copy, not a view."
   ]
  },
  {
   "cell_type": "markdown",
   "metadata": {},
   "source": [
    "Use `Key` objects instead of strings to do fast repeated access to fields when iterating over records:"
   ]
  },
  {
   "cell_type": "code",
   "execution_count": null,
   "metadata": {
    "collapsed": true
   },
   "outputs": [],
   "source": [
    "key = catalog.getSchema().find(\"deblend_nChild\").key\n",
    "deblended = [record for record in catalog if record.get(key) == 0]"
   ]
  },
  {
   "cell_type": "markdown",
   "metadata": {},
   "source": [
    "You can also get `dict` version of a subset of a `Schema`, a `Catalog`, or a `Record` by calling either `extract` methods with a glob:"
   ]
  },
  {
   "cell_type": "code",
   "execution_count": null,
   "metadata": {},
   "outputs": [],
   "source": [
    "catalog[0].extract(\"base_PsfFlux_*\")  # or regex='...'"
   ]
  },
  {
   "cell_type": "markdown",
   "metadata": {},
   "source": [
    "For `Record`s, the dict values are just the values of the fields, and for `Catalogs`, they're `numpy.ndarray` columns.  For `Schema`s they're `SchemaItem`s, which behave liked a named tuple containing a `Key` and a `Field`, which contains more descriptive information."
   ]
  },
  {
   "cell_type": "markdown",
   "metadata": {},
   "source": [
    "Get an Astropy view of the catalog (from which you can make a Pandas view):"
   ]
  },
  {
   "cell_type": "code",
   "execution_count": null,
   "metadata": {
    "collapsed": true
   },
   "outputs": [],
   "source": [
    "table = catalog.asAstropy()"
   ]
  },
  {
   "cell_type": "markdown",
   "metadata": {},
   "source": [
    "You can find some reference documentation for the catalog library [here](http://doxygen.lsst.codes/stack/doxygen/x_masterDoxyDoc/afw_table.html)."
   ]
  },
  {
   "cell_type": "markdown",
   "metadata": {},
   "source": [
    "# Exercises\n",
    "\n",
    "1) Make a scatter plot of Kron Flux vs. Psf Flux."
   ]
  },
  {
   "cell_type": "markdown",
   "metadata": {},
   "source": [
    "It's not a pretty plot, with so few points and no calibration, but it's pretty simple:"
   ]
  },
  {
   "cell_type": "code",
   "execution_count": null,
   "metadata": {},
   "outputs": [],
   "source": [
    "matplotlib.pyplot.scatter(catalog[\"slot_PsfFlux_flux\"], catalog[\"ext_photometryKron_KronFlux_flux\"], alpha=0.5)"
   ]
  },
  {
   "cell_type": "markdown",
   "metadata": {},
   "source": [
    "2) Write a single function that performs all of the above steps on a post-ISR `Exposure` object, modifying the `Exposure` in-place and returning a new `SourceCatalog` with a complete set of measurements."
   ]
  },
  {
   "cell_type": "code",
   "execution_count": null,
   "metadata": {},
   "outputs": [],
   "source": [
    "def processExposure1(exposure):\n",
    "    schema = SourceTable.makeMinimalSchema()\n",
    "    bkgTask = SubtractBackgroundTask()\n",
    "    repairTask = RepairTask()\n",
    "    detectTask = SourceDetectionTask(schema=schema)\n",
    "    deblendTask = SourceDeblendTask(schema=schema)\n",
    "    measureConfig = SingleFrameMeasurementTask.ConfigClass()\n",
    "    measureConfig.plugins.names.add(\"ext_photometryKron_KronFlux\")\n",
    "    measureTask = SingleFrameMeasurementTask(schema=schema, config=measureConfig)\n",
    "    bkgResult = bkgTask.run(exposure)\n",
    "    repairTask.run(exposure)\n",
    "    table = SourceTable.make(schema)\n",
    "    detectResult = detectTask.run(table, exposure)\n",
    "    catalog = detectResult.sources\n",
    "    deblendTask.run(exposure, catalog)\n",
    "    measureTask.run(catalog, exposure)\n",
    "    return catalog"
   ]
  },
  {
   "cell_type": "code",
   "execution_count": null,
   "metadata": {},
   "outputs": [],
   "source": [
    "exposure = butler.get(\"postISRCCD\", visit=903334, ccd=16)\n",
    "sub = Exposure(exposure, bbox=bbox, dtype=exposure.dtype, deep=False)\n",
    "exposure.setPsf(psf)"
   ]
  },
  {
   "cell_type": "code",
   "execution_count": null,
   "metadata": {},
   "outputs": [],
   "source": [
    "catalog = processExposure1(exposure)"
   ]
  },
  {
   "cell_type": "markdown",
   "metadata": {},
   "source": [
    "3) Add PSF modeling to the end of that function, delegating most of the work to `lsst.pipe.tasks.MeasurePsfTask`.  You may want to use a higher threshold (e.g. 50-sigma) for detection, since PSF modeling should only use bright stars.  Hint: `MeasurePsfTask` requires the catalog you pass it to be contiguous; if it isn't you'll (unfortunately) get a very confusing error message."
   ]
  },
  {
   "cell_type": "code",
   "execution_count": null,
   "metadata": {},
   "outputs": [],
   "source": [
    "from lsst.pipe.tasks.measurePsf import MeasurePsfTask\n",
    "\n",
    "def processExposure2(exposure):\n",
    "    schema = SourceTable.makeMinimalSchema()\n",
    "    bkgTask = SubtractBackgroundTask()\n",
    "    repairTask = RepairTask()\n",
    "    detectConfig = SourceDetectionTask.ConfigClass()\n",
    "    detectConfig.thresholdValue = 50.0\n",
    "    detectTask = SourceDetectionTask(config=detectConfig, schema=schema)\n",
    "    deblendTask = SourceDeblendTask(schema=schema)\n",
    "    measureConfig = SingleFrameMeasurementTask.ConfigClass()\n",
    "    measureConfig.plugins.names.add(\"ext_photometryKron_KronFlux\")\n",
    "    measureTask = SingleFrameMeasurementTask(schema=schema, config=measureConfig)\n",
    "    psfTask = MeasurePsfTask(schema=schema)\n",
    "    bkgResult = bkgTask.run(exposure)\n",
    "    repairTask.run(exposure)\n",
    "    table = SourceTable.make(schema)\n",
    "    detectResult = detectTask.run(table, exposure)\n",
    "    catalog = detectResult.sources\n",
    "    deblendTask.run(exposure, catalog)\n",
    "    catalog = catalog.copy(deep=True)\n",
    "    measureTask.run(catalog, exposure)\n",
    "    psfTask.run(exposure, catalog)\n",
    "    return catalog"
   ]
  },
  {
   "cell_type": "code",
   "execution_count": null,
   "metadata": {},
   "outputs": [],
   "source": [
    "exposure = butler.get(\"postISRCCD\", visit=903334, ccd=16)\n",
    "sub = Exposure(exposure, bbox=bbox, dtype=exposure.dtype, deep=False)\n",
    "exposure.setPsf(psf)"
   ]
  },
  {
   "cell_type": "code",
   "execution_count": null,
   "metadata": {},
   "outputs": [],
   "source": [
    "catalog = processExposure2(exposure)"
   ]
  },
  {
   "cell_type": "markdown",
   "metadata": {},
   "source": [
    "4) Make images of the PSF stars, the PSF model at the position of those stars, and the difference between them."
   ]
  },
  {
   "cell_type": "code",
   "execution_count": null,
   "metadata": {},
   "outputs": [],
   "source": [
    "from lsst.afw.image import PARENT\n",
    "\n",
    "stamps = []\n",
    "for record in catalog[catalog[\"calib_psfUsed\"]]:\n",
    "    # Get the PSF, convert to a single-precision image (yes, ugly syntax)\n",
    "    psfImage = exposure.getPsf().computeImage(record.getCentroid()).convertF()\n",
    "    # Make a subimage (yes, even uglier syntax).  Last boolean is whether to make a deep copy.\n",
    "    starImage = exposure.image.Factory(exposure.image, psfImage.getBBox(), PARENT, True)\n",
    "    # Divide the star image by the PSF flux (note that this wouldn't work as well if we had applied aperture corrections)\n",
    "    starImage /= record.get(\"slot_PsfFlux_flux\")\n",
    "    # Make a deep copy, and subtract to get the residuals\n",
    "    residualImage = starImage.clone()\n",
    "    residualImage -= psfImage\n",
    "    stamps.append((psfImage, starImage, residualImage))"
   ]
  },
  {
   "cell_type": "code",
   "execution_count": null,
   "metadata": {},
   "outputs": [],
   "source": [
    "limit = 4\n",
    "nCols = 3\n",
    "nRows = min(len(stamps), limit)\n",
    "index = 1\n",
    "for psfImage, starImage, residualImage in stamps[:nRows]:\n",
    "    vmin = min(psfImage.array.min(), starImage.array.min(), residualImage.array.min())\n",
    "    vmax = max(psfImage.array.max(), starImage.array.max(), residualImage.array.max())\n",
    "    matplotlib.pyplot.subplot(nRows, nCols, index)\n",
    "    display(starImage, vmin=vmin, vmax=vmax)\n",
    "    index += 1\n",
    "    matplotlib.pyplot.subplot(nRows, nCols, index)\n",
    "    display(psfImage, vmin=vmin, vmax=vmax)\n",
    "    index += 1\n",
    "    matplotlib.pyplot.subplot(nRows, nCols, index)\n",
    "    display(residualImage, vmin=vmin, vmax=vmax)\n",
    "    index += 1"
   ]
  },
  {
   "cell_type": "markdown",
   "metadata": {},
   "source": [
    "Clearly the PSF model we get without tuning any of the configuration for `MeasurePsfTask` isn't terribly good."
   ]
  },
  {
   "cell_type": "markdown",
   "metadata": {},
   "source": [
    "5) Add another detect-deblend-measure sequence after PSF modeling at a deeper threshold."
   ]
  },
  {
   "cell_type": "code",
   "execution_count": null,
   "metadata": {},
   "outputs": [],
   "source": [
    "from lsst.pipe.tasks.measurePsf import MeasurePsfTask\n",
    "\n",
    "def processExposure3(exposure):\n",
    "    # Construct tasks and schema for the first pass to do PSF estimation\n",
    "    schema1 = SourceTable.makeMinimalSchema()\n",
    "    bkgTask = SubtractBackgroundTask()\n",
    "    repairTask = RepairTask()\n",
    "    detectConfig1 = SourceDetectionTask.ConfigClass()\n",
    "    detectConfig1.thresholdValue = 50.0\n",
    "    detectTask1 = SourceDetectionTask(config=detectConfig1, schema=schema1)\n",
    "    deblendTask1 = SourceDeblendTask(schema=schema1)\n",
    "    measureTask1 = SingleFrameMeasurementTask(schema=schema1)\n",
    "    psfTask = MeasurePsfTask(schema=schema1)\n",
    "    # Construct tasks and schema for the second pass\n",
    "    schema2 = SourceTable.makeMinimalSchema()\n",
    "    detectTask2 = SourceDetectionTask(schema=schema2)\n",
    "    deblendTask2 = SourceDeblendTask(schema=schema2)\n",
    "    measureConfig2 = SingleFrameMeasurementTask.ConfigClass()\n",
    "    measureConfig2.plugins.names.add(\"ext_photometryKron_KronFlux\")\n",
    "    measureTask2 = SingleFrameMeasurementTask(schema=schema2, config=measureConfig2)\n",
    "    # Run the first pass, and do PSF estimation.\n",
    "    bkgResult = bkgTask.run(exposure)\n",
    "    repairTask.run(exposure)\n",
    "    table1 = SourceTable.make(schema1)\n",
    "    detectResult1 = detectTask1.run(table1, exposure)\n",
    "    catalog1 = detectResult1.sources\n",
    "    deblendTask1.run(exposure, catalog1)\n",
    "    catalog1 = catalog1.copy(deep=True)\n",
    "    measureTask1.run(catalog1, exposure)\n",
    "    # Run the second pass\n",
    "    table2 = SourceTable.make(schema2)\n",
    "    detectResult2 = detectTask2.run(table2, exposure)\n",
    "    catalog2 = detectResult2.sources\n",
    "    deblendTask2.run(exposure, catalog2)\n",
    "    measureTask2.run(catalog2, exposure)\n",
    "    return catalog1, catalog2"
   ]
  },
  {
   "cell_type": "code",
   "execution_count": null,
   "metadata": {},
   "outputs": [],
   "source": [
    "exposure = butler.get(\"postISRCCD\", visit=903334, ccd=16)\n",
    "sub = Exposure(exposure, bbox=bbox, dtype=exposure.dtype, deep=False)\n",
    "exposure.setPsf(psf)"
   ]
  },
  {
   "cell_type": "code",
   "execution_count": null,
   "metadata": {},
   "outputs": [],
   "source": [
    "catalog1, catalog2 = processExposure3(exposure)"
   ]
  },
  {
   "cell_type": "markdown",
   "metadata": {},
   "source": [
    "6) Rewrite the function as a class that constructs all of the `Task`s that it use in `__init__` and processes a single `Exposure` with you call its `run` method.  Make sure it will behave properly if `run` is called multiple times wiht different `Exposure` objects."
   ]
  },
  {
   "cell_type": "code",
   "execution_count": null,
   "metadata": {},
   "outputs": [],
   "source": [
    "class ProcessExposure(object):\n",
    "    \n",
    "    def __init__(self):\n",
    "        # Construct tasks and schema for the first pass to do PSF estimation\n",
    "        self.schema1 = SourceTable.makeMinimalSchema()\n",
    "        self.bkgTask = SubtractBackgroundTask()\n",
    "        self.repairTask = RepairTask()\n",
    "        detectConfig1 = SourceDetectionTask.ConfigClass()\n",
    "        detectConfig1.thresholdValue = 50.0\n",
    "        self.detectTask1 = SourceDetectionTask(config=detectConfig1, schema=self.schema1)\n",
    "        self.deblendTask1 = SourceDeblendTask(schema=self.schema1)\n",
    "        self.measureTask1 = SingleFrameMeasurementTask(schema=self.schema1)\n",
    "        self.psfTask = MeasurePsfTask(schema=self.schema1)\n",
    "        # Construct tasks and schema for the second pass\n",
    "        self.schema2 = SourceTable.makeMinimalSchema()\n",
    "        self.detectTask2 = SourceDetectionTask(schema=self.schema2)\n",
    "        self.deblendTask2 = SourceDeblendTask(schema=self.schema2)\n",
    "        measureConfig2 = SingleFrameMeasurementTask.ConfigClass()\n",
    "        measureConfig2.plugins.names.add(\"ext_photometryKron_KronFlux\")\n",
    "        self.measureTask2 = SingleFrameMeasurementTask(schema=self.schema2, config=measureConfig2)\n",
    "        \n",
    "    def run(self, exposure):\n",
    "        # Run the first pass, and do PSF estimation.\n",
    "        bkgResult = self.bkgTask.run(exposure)\n",
    "        self.repairTask.run(exposure)\n",
    "        table1 = SourceTable.make(self.schema1)\n",
    "        detectResult1 = self.detectTask1.run(table1, exposure)\n",
    "        catalog1 = detectResult1.sources\n",
    "        self.deblendTask1.run(exposure, catalog1)\n",
    "        catalog1 = catalog1.copy(deep=True)\n",
    "        self.measureTask1.run(catalog1, exposure)\n",
    "        # Run the second pass\n",
    "        table2 = SourceTable.make(self.schema2)\n",
    "        detectResult2 = self.detectTask2.run(table2, exposure)\n",
    "        catalog2 = detectResult2.sources\n",
    "        self.deblendTask2.run(exposure, catalog2)\n",
    "        self.measureTask2.run(catalog2, exposure)\n",
    "        return catalog1, catalog2"
   ]
  },
  {
   "cell_type": "code",
   "execution_count": null,
   "metadata": {},
   "outputs": [],
   "source": [
    "exposure = butler.get(\"postISRCCD\", visit=903334, ccd=16)\n",
    "sub = Exposure(exposure, bbox=bbox, dtype=exposure.dtype, deep=False)\n",
    "exposure.setPsf(psf)"
   ]
  },
  {
   "cell_type": "code",
   "execution_count": null,
   "metadata": {},
   "outputs": [],
   "source": [
    "task = ProcessExposure()\n",
    "catalog1, catalog2 = task.run(exposure)"
   ]
  },
  {
   "cell_type": "markdown",
   "metadata": {},
   "source": [
    "\n",
    "- "
   ]
  }
 ],
 "metadata": {
  "kernelspec": {
   "display_name": "LSST",
   "language": "python",
   "name": "lsst"
  },
  "language_info": {
   "codemirror_mode": {
    "name": "ipython",
    "version": 3
   },
   "file_extension": ".py",
   "mimetype": "text/x-python",
   "name": "python",
   "nbconvert_exporter": "python",
   "pygments_lexer": "ipython3",
   "version": "3.6.2"
  }
 },
 "nbformat": 4,
 "nbformat_minor": 2
}
