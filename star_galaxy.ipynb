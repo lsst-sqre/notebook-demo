{
 "cells": [
  {
   "cell_type": "markdown",
   "metadata": {},
   "source": [
    "# A very simple example of star/galaxy separation"
   ]
  },
  {
   "cell_type": "markdown",
   "metadata": {},
   "source": [
    "### First set up some `matplotlib` defaults"
   ]
  },
  {
   "cell_type": "code",
   "execution_count": null,
   "metadata": {},
   "outputs": [],
   "source": [
    "%matplotlib inline\n",
    "import matplotlib.pyplot as plt\n",
    "#plt.rcParams['figure.figsize'] = (13, 8)\n",
    "plt.rcParams.update({'figure.figsize' : (12, 8)})\n"
   ]
  },
  {
   "cell_type": "markdown",
   "metadata": {},
   "source": [
    "### Next import modules for use later"
   ]
  },
  {
   "cell_type": "code",
   "execution_count": null,
   "metadata": {},
   "outputs": [],
   "source": [
    "import numpy\n",
    "import lsst.daf.persistence as daf_persistence\n",
    "import lsst.afw.geom as afw_geom"
   ]
  },
  {
   "cell_type": "markdown",
   "metadata": {},
   "source": [
    "### Define a utility function for use later"
   ]
  },
  {
   "cell_type": "markdown",
   "metadata": {},
   "source": [
    "This function is a very simple image display tool.  It will plot a sub-region if you want and will overlay sources if you pass a catalog."
   ]
  },
  {
   "cell_type": "code",
   "execution_count": null,
   "metadata": {},
   "outputs": [],
   "source": [
    "def overlay_masks(exposure, bbox=None, sources=None):\n",
    "    masked_image = exposure.getMaskedImage()\n",
    "    if bbox is not None:\n",
    "        masked_image = masked_image.Factory(masked_image, bbox)\n",
    "    (img, mask, var) = masked_image.getArrays()\n",
    "    plt.imshow(numpy.log10(img-1*img.min()), interpolation='nearest', cmap='gray')\n",
    "    plt.imshow(mask, interpolation='nearest', cmap='Blues', alpha=0.5)\n",
    "    if sources is not None:\n",
    "        testbox = afw_geom.Box2D(bbox) # convert to a floating point box\n",
    "        for source in sources:\n",
    "            if testbox.contains(source.getCentroid()):\n",
    "                # Need to account for difference in pixel indexing between matplotlib and stack\n",
    "                plt.scatter(source.getX()-testbox.getMinX()-0.5, source.getY()-testbox.getMinY()-0.5, \n",
    "                            marker='+', c='r', s = 80) #, alpha=0.5)\n",
    "    plt.show()"
   ]
  },
  {
   "cell_type": "markdown",
   "metadata": {},
   "source": [
    "### Get some data\n",
    "This is a very small sample of DECam data that has already been reduced by the LSST stack.  It is a valid butler repository, so we can use standard LSST tools to interact with it."
   ]
  },
  {
   "cell_type": "code",
   "execution_count": null,
   "metadata": {},
   "outputs": [],
   "source": [
    "!if ! [ -d singlechip_sample ]; then curl -O https://lsst-web.ncsa.illinois.edu/~krughoff/data/singlechip.tar.gz ; tar zxvf singlechip.tar.gz; fi"
   ]
  },
  {
   "cell_type": "markdown",
   "metadata": {},
   "source": [
    "### Now we can make a butler\n",
    "The `Butler` is the data abstraction layer for our stack.  Simply instantiate with a path to a valid repository.  Then you can ask for data by type and a set of unique identifiers.  In this case, I'm getting a calibrated exposure, or `calexp`."
   ]
  },
  {
   "cell_type": "code",
   "execution_count": null,
   "metadata": {},
   "outputs": [],
   "source": [
    "butler = daf_persistence.Butler('singlechip_sample')\n",
    "exp = butler.get('calexp', visit=410877, ccd=28, filter='r')"
   ]
  },
  {
   "cell_type": "markdown",
   "metadata": {},
   "source": [
    "### Now let's do something with the exposure\n",
    "First we construct a bounding box for a subregion in the image.  Then get a source catalog using the `Butler`.  Finally, use the utility function above to plot the image, masks, and source."
   ]
  },
  {
   "cell_type": "code",
   "execution_count": null,
   "metadata": {},
   "outputs": [],
   "source": [
    "bbox = afw_geom.Box2I(afw_geom.Point2I(1024, 1024), afw_geom.Extent2I(512,512))\n",
    "sources = butler.get('src', visit=410877, ccd=28, filter='r')\n",
    "overlay_masks(exp, bbox=bbox, sources=sources)"
   ]
  },
  {
   "cell_type": "markdown",
   "metadata": {},
   "source": [
    "### Let's do a simple analysis\n",
    "First calculate the ratio of the model flux to the PSF flux.  This is basically a measure of how much the source looks like a point source."
   ]
  },
  {
   "cell_type": "code",
   "execution_count": null,
   "metadata": {},
   "outputs": [],
   "source": [
    "# Get the flux values, and calculate the flux ratio:\n",
    "psf_flux = sources.getPsfFlux()\n",
    "model_flux = sources.getModelFlux()\n",
    "flux_ratio = model_flux/psf_flux    # sources.getModelFlux()/sources.getPsfFlux()\n",
    "# Make these numpy arrays:\n",
    "psf_flux = numpy.array(psf_flux)\n",
    "flux_ratio = numpy.array(flux_ratio)"
   ]
  },
  {
   "cell_type": "markdown",
   "metadata": {},
   "source": [
    "The stack provides a measurement for extendedness as well.  Separate stars from galaxies using this value, which is set to 0 for \"stars,\" and 1 for \"galaxies\" (i.e., extended sources, or \"not stars\")."
   ]
  },
  {
   "cell_type": "code",
   "execution_count": null,
   "metadata": {},
   "outputs": [],
   "source": [
    "extend = sources.get('base_ClassificationExtendedness_value')\n",
    "stars = numpy.where(extend==0.0)[0]\n",
    "galaxies = numpy.where(extend>0.)[0]\n",
    "\n",
    "plt.scatter(psf_flux[stars], flux_ratio[stars], alpha=0.3)\n",
    "plt.scatter(psf_flux[galaxies], flux_ratio[galaxies], c='r', alpha=0.3)\n",
    "plt.xlim(10000, 10)\n",
    "plt.ylim(-1, 5)\n",
    "plt.xlabel('PSF flux (counts)')\n",
    "plt.ylabel('flux ratio (model/PSF)')\n",
    "plt.show()"
   ]
  },
  {
   "cell_type": "markdown",
   "metadata": {},
   "source": [
    "Notice how all points above a certain threshold are red.  This simply shows that the default star/galaxy separator in this reduction is a cut in the model flux/PSF flux ratio."
   ]
  },
  {
   "cell_type": "markdown",
   "metadata": {},
   "source": [
    "To see what threshold was used, let's check the minimum flux ratio of things classified as \"galaxies\" (`base_ClassificationExtendedness_value` > 0), and the max. flux of \"stars\" (`base_ClassificationExtendedness_value` == 0):"
   ]
  },
  {
   "cell_type": "code",
   "execution_count": null,
   "metadata": {},
   "outputs": [],
   "source": [
    "print(flux_ratio[galaxies].min())\n",
    "print(flux_ratio[stars].max())"
   ]
  },
  {
   "cell_type": "markdown",
   "metadata": {},
   "source": [
    "Looks like the threshold was set at 1.08 (i.e., >8% excess flux classifies a source as \"extended\"). Let's confirm this with a plot:"
   ]
  },
  {
   "cell_type": "code",
   "execution_count": null,
   "metadata": {},
   "outputs": [],
   "source": [
    "plt.plot(extend,flux_ratio,'r.')\n",
    "plt.ylim(0,2)\n",
    "plt.xlabel('base_ClassificationExtendedness_value')\n",
    "plt.ylabel('flux ratio (model/PSF)')\n",
    "# Draw a line at 1.08:\n",
    "plt.axhline(1.08)"
   ]
  },
  {
   "cell_type": "markdown",
   "metadata": {},
   "source": [
    "**Now look at the star/galaxy separation with magnitudes instead of flux.**\n",
    "\n",
    "(recall that a ratio of fluxes is equivalent to a difference in magnitude)"
   ]
  },
  {
   "cell_type": "code",
   "execution_count": null,
   "metadata": {},
   "outputs": [],
   "source": [
    "# Grab the calibration info:\n",
    "exp_calib = exp.getCalib()\n",
    "\n",
    "# Apply the calibration to the flux values:\n",
    "psf_mag = exp_calib.getMagnitude(psf_flux)\n",
    "\n",
    "# There are some NaN and negative flux values in the model flux array. Filter those:\n",
    "badmodel = (numpy.isnan(model_flux)) | (model_flux < 0.01)\n",
    "model_mag = 0.0*psf_mag + 30.0 # set \"bad\" measurements to mag = 30.0\n",
    "model_mag[~badmodel] = exp_calib.getMagnitude(model_flux[~badmodel])\n",
    "\n",
    "flux_ratio[badmodel] = -999.9 # set those with a bad flux measurement to -999\n",
    "\n",
    "# Calculate the magnitude difference, in the sense PSF-model:\n",
    "magdiff = psf_mag - model_mag"
   ]
  },
  {
   "cell_type": "code",
   "execution_count": null,
   "metadata": {},
   "outputs": [],
   "source": [
    "plt.scatter(psf_mag[stars], magdiff[stars], alpha=0.3)\n",
    "plt.scatter(psf_mag[galaxies], magdiff[galaxies], c='r', alpha=0.3)\n",
    "\n",
    "plt.xlim(14.5, 24.5)\n",
    "plt.ylim(-3, 5)\n",
    "plt.xlabel('PSF magnitude')\n",
    "plt.ylabel('mag_PSF - mag_model')\n",
    "plt.show()"
   ]
  },
  {
   "cell_type": "markdown",
   "metadata": {},
   "source": [
    "You can see that bright, saturated objects get mis-classified as extended. Also, galaxies begin to outnumber stars at ~22nd magnitude."
   ]
  },
  {
   "cell_type": "markdown",
   "metadata": {},
   "source": [
    "Check what the threshold corresponds to in magnitudes:"
   ]
  },
  {
   "cell_type": "code",
   "execution_count": null,
   "metadata": {},
   "outputs": [],
   "source": [
    "print(magdiff[galaxies].min())\n",
    "print(magdiff[stars].max())"
   ]
  },
  {
   "cell_type": "markdown",
   "metadata": {},
   "source": [
    "**Make separate overlays of the stars and galaxies on the image:**"
   ]
  },
  {
   "cell_type": "code",
   "execution_count": null,
   "metadata": {},
   "outputs": [],
   "source": [
    "# STARS:\n",
    "overlay_masks(exp, bbox=bbox, sources=sources[extend==0.0])"
   ]
  },
  {
   "cell_type": "code",
   "execution_count": null,
   "metadata": {},
   "outputs": [],
   "source": [
    "# GALAXIES:\n",
    "overlay_masks(exp, bbox=bbox, sources=sources[extend > 0.0])"
   ]
  },
  {
   "cell_type": "markdown",
   "metadata": {},
   "source": [
    "### Suppose we're not satisfied with a strict threshold. Let's define our own star/galaxy separation criteria\n",
    "\n",
    "In this case, we'd like to incorporate the flux errors into our analysis, and try to achieve a more complete set of stars. Basically, we'll ask the question: \"Given the error in the flux measurement, does this source deviate by > N-sigma from a flux ratio of one?\" If so, it must be an extended source. "
   ]
  },
  {
   "cell_type": "code",
   "execution_count": null,
   "metadata": {},
   "outputs": [],
   "source": [
    "# Get the errors on the flux measurements:\n",
    "psf_flux_err = sources.getPsfFluxErr()\n",
    "model_flux_err = sources.getModelFluxErr()\n",
    "psf_flux_err = numpy.array(psf_flux_err)\n",
    "model_flux_err = numpy.array(model_flux_err)\n",
    "\n",
    "# fractional flux errors:\n",
    "psf_flux_err_frac = psf_flux_err/psf_flux\n",
    "model_flux_err_frac = model_flux_err/model_flux"
   ]
  },
  {
   "cell_type": "code",
   "execution_count": null,
   "metadata": {},
   "outputs": [],
   "source": [
    "exp_calib.setThrowOnNegativeFlux(False) # This turns off the errors that are thrown when flux < 0.\n",
    "\n",
    "# Get the mag. corresponding to flux+err:\n",
    "psf_mag_max = exp_calib.getMagnitude(psf_flux+psf_flux_err)\n",
    "\n",
    "model_mag_max = 0.0*psf_mag_max + 35.0 # set \"bad\" measurements to mag = 35.0\n",
    "model_mag_max[~badmodel] = exp_calib.getMagnitude(model_flux[~badmodel]+model_flux_err[~badmodel])\n",
    "\n",
    "# The mag. error is the difference between this \"maximum\" flux value and the measured value:\n",
    "psf_mag_err = psf_mag - psf_mag_max\n",
    "model_mag_err = model_mag - model_mag_max"
   ]
  },
  {
   "cell_type": "code",
   "execution_count": null,
   "metadata": {},
   "outputs": [],
   "source": [
    "plt.plot(psf_mag,psf_mag_err,'r.',label='PSF')\n",
    "plt.xlim(14.5,24.5)\n",
    "plt.ylim(0,0.6)\n",
    "plt.legend()\n",
    "plt.xlabel('mag')\n",
    "plt.ylabel('mag error')\n",
    "plt.show()"
   ]
  },
  {
   "cell_type": "code",
   "execution_count": null,
   "metadata": {},
   "outputs": [],
   "source": [
    "# Add the fractional errors in quadrature (plus some intrinsic width in case we've underestimated the errors) to get the total relative error:\n",
    "# To see the need for this intrinsic width term, try re-running this cell and the next with width0=0,\n",
    "#   and look at the bright stars that are misidentified as galaxies.\n",
    "width0 = 0.03 \n",
    "fluxerr_tot = numpy.sqrt((psf_flux_err/psf_flux)**2. + (model_flux_err/model_flux)**2. + width0**2.)\n",
    "\n",
    "nsigma = 3.0\n",
    "resid = (flux_ratio - 1.0)/fluxerr_tot\n",
    "\n",
    "stars2 = (numpy.abs(resid) <= nsigma)\n",
    "galaxies2 = (numpy.abs(resid) > nsigma)\n",
    "\n",
    "plt.scatter(psf_flux[stars2], flux_ratio[stars2], alpha=0.3)\n",
    "plt.scatter(psf_flux[galaxies2], flux_ratio[galaxies2], c='r', alpha=0.3)\n",
    "plt.xlim(10000, 10)\n",
    "plt.ylim(-1, 5)\n",
    "plt.title('Flux ratio')\n",
    "plt.xlabel('PSF flux (counts)')\n",
    "plt.ylabel('flux ratio (model/PSF)')\n",
    "plt.show()\n"
   ]
  },
  {
   "cell_type": "code",
   "execution_count": null,
   "metadata": {},
   "outputs": [],
   "source": [
    "plt.scatter(psf_mag[stars2], magdiff[stars2], alpha=0.3)\n",
    "plt.scatter(psf_mag[galaxies2], magdiff[galaxies2], c='r', alpha=0.3)\n",
    "\n",
    "plt.xlim(14.5, 24.5)\n",
    "plt.ylim(-3, 5)\n",
    "plt.title('magnitude difference')\n",
    "plt.xlabel('PSF magnitude')\n",
    "plt.ylabel('mag_PSF - mag_model')\n",
    "plt.show()"
   ]
  },
  {
   "cell_type": "markdown",
   "metadata": {},
   "source": [
    "**Make separate overlays of the newly-classified stars and galaxies on the image:**"
   ]
  },
  {
   "cell_type": "code",
   "execution_count": null,
   "metadata": {},
   "outputs": [],
   "source": [
    "# STARS:\n",
    "overlay_masks(exp, bbox=bbox, sources=sources[stars2])"
   ]
  },
  {
   "cell_type": "code",
   "execution_count": null,
   "metadata": {},
   "outputs": [],
   "source": [
    "# GALAXIES:\n",
    "overlay_masks(exp, bbox=bbox, sources=sources[galaxies2])"
   ]
  }
 ],
 "metadata": {
  "kernelspec": {
   "display_name": "LSST",
   "language": "python",
   "name": "lsst"
  },
  "language_info": {
   "codemirror_mode": {
    "name": "ipython",
    "version": 3
   },
   "file_extension": ".py",
   "mimetype": "text/x-python",
   "name": "python",
   "nbconvert_exporter": "python",
   "pygments_lexer": "ipython3",
   "version": "3.6.2"
  }
 },
 "nbformat": 4,
 "nbformat_minor": 2
}
