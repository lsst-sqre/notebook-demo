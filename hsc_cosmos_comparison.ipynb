{
 "cells": [
  {
   "cell_type": "markdown",
   "metadata": {},
   "source": [
    "# Comparing HSC and HST/COSMOS data\n",
    "\n",
    "Modified from the following notebooks:\n",
    "\n",
    "[hsc_cosmos_match.ipynb](https://github.com/lsst-com/notebooks/blob/master/hsc_cosmos_match.ipynb) originally written by Keith Bechtol & Chris Walter\n",
    "\n",
    "[Spurious_match_catalog.ipynb](https://github.com/lsst-com/notebooks/blob/master/Spurious_match_catalog.ipynb) by Tiago Ribeiro and Andy Connolly\n",
    "\n",
    "\n",
    "\n",
    "We will work with COSMOS catalogs retrieved from the morphology and photometry directories of this site: \n",
    "\n",
    "https://irsa.ipac.caltech.edu/data/COSMOS/tables/\n",
    "\n",
    "and located on NCSA servers at `/project/shared/data/COSMOS_catalogs/`\n",
    "\n",
    "\n",
    "\n",
    "For testing star-galaxy separation, the catalog described here is commonly used:\n",
    "\n",
    "From https://arxiv.org/abs/1805.02427\n",
    "\n",
    ">The dataset on which we train the machine learning (ML)\n",
    "codes  is  the  weak  lensing  catalog  from  HST  ACS  in  the\n",
    "COSMOS  field (Leauthaud  et  al.  2007),  as  this  provides  a\n",
    "largely unbiased measurement of all extended and point-like\n",
    "sources from DES (albeit the star-galaxy mixture is affected\n",
    "by the specific position in the sky with respect to the Galactic  plane).  In  particular,  the\n",
    "MU_CLASS parameter  is  used for  this  reference,  defined  in  the  peak  surface  brightness  -\n",
    "MAG_AUTO space,  which  in  space-based  imaging  shows  very\n",
    "distinct loci with respect to the same objects viewed through\n",
    "the atmosphere. This has been used previously in star-galaxy\n",
    "separation assessments in, e.g., Crocce et al. (2016) and Aihara et al. (2018).\n",
    "\n",
    "More info, and a direct link to that catalog:\n",
    "\n",
    "Leauthaud  et  al.  2007: https://ui.adsabs.harvard.edu/#abs/2007ApJS..172..219L/abstract\n",
    "\n",
    "Catalog (NOTE: 1.2GB file!): https://irsa.ipac.caltech.edu/data/COSMOS/tables/photometry/cosmos_acs_iphot_200709.tbl\n",
    "\n",
    "Documentation: https://irsa.ipac.caltech.edu/data/COSMOS/gator_docs/cosmos_acs_colDescriptions.html"
   ]
  },
  {
   "cell_type": "markdown",
   "metadata": {},
   "source": [
    "Note -- you could also retrieve the cosmos catalog using: \n",
    "\n",
    "`wget https://irsa.ipac.caltech.edu/data/COSMOS/tables/photometry/cosmos_acs_iphot_200709.tbl`"
   ]
  },
  {
   "cell_type": "code",
   "execution_count": null,
   "metadata": {},
   "outputs": [],
   "source": [
    "import os\n",
    "import glob\n",
    "import gzip\n",
    "import numpy as np\n",
    "import pandas as pd\n",
    "\n",
    "%matplotlib inline\n",
    "import matplotlib.pyplot as plt\n",
    "\n",
    "# Set up some plotting defaults:\n",
    "plt.rcParams.update({'figure.figsize' : (11, 8)})\n",
    "plt.rcParams.update({'font.size' : 20})\n",
    "plt.rcParams.update({'axes.linewidth' : 3})\n",
    "plt.rcParams.update({'axes.labelweight' : 3})\n",
    "plt.rcParams.update({'axes.titleweight' : 3})\n",
    "plt.rcParams.update({'ytick.major.width':3})\n",
    "plt.rcParams.update({'ytick.minor.width':2})\n",
    "plt.rcParams.update({'ytick.major.size':8})\n",
    "plt.rcParams.update({'ytick.minor.size':5})\n",
    "plt.rcParams.update({'xtick.major.size':8})\n",
    "plt.rcParams.update({'xtick.minor.size':5})\n",
    "plt.rcParams.update({'xtick.major.width':3})\n",
    "plt.rcParams.update({'xtick.minor.width':2})\n",
    "plt.rcParams.update({'xtick.direction':'in'})\n",
    "plt.rcParams.update({'ytick.direction':'in'})"
   ]
  },
  {
   "cell_type": "markdown",
   "metadata": {},
   "source": [
    "Reading the COSMOS HST/ACS weak lensing catalog. Note that the HST/ACS weak lensing catalog is a 1.2G text file. To speed up this demo, we've converted the catalog to HDF5 format, which can be read quickly into a pandas dataframe:"
   ]
  },
  {
   "cell_type": "code",
   "execution_count": null,
   "metadata": {},
   "outputs": [],
   "source": [
    "datadir_cosmos = '/project/shared/data/COSMOS_catalogs/'\n",
    "infile_cosmos = datadir_cosmos + 'cosmos_acs_iphot_200709.h5'\n",
    "df_cosmos = pd.read_hdf(infile_cosmos, 'df')"
   ]
  },
  {
   "cell_type": "code",
   "execution_count": null,
   "metadata": {},
   "outputs": [],
   "source": [
    "# What's in the catalog?\n",
    "print(df_cosmos.shape)\n",
    "df_cosmos"
   ]
  },
  {
   "cell_type": "code",
   "execution_count": null,
   "metadata": {},
   "outputs": [],
   "source": [
    "# What columns are in the COSMOS data?\n",
    "df_cosmos.columns"
   ]
  },
  {
   "cell_type": "code",
   "execution_count": null,
   "metadata": {},
   "outputs": [],
   "source": [
    "# Plot positions of COSMOS objects\n",
    "plt.figure()\n",
    "plt.hist2d(df_cosmos['ra'], df_cosmos['dec'], bins=(300, 300), cmap='Blues')\n",
    "plt.colorbar(label='Binned Counts')\n",
    "plt.xlabel('RA (deg)')\n",
    "plt.ylabel('Dec (deg)')\n",
    "plt.minorticks_on()\n",
    "plt.show()"
   ]
  },
  {
   "cell_type": "code",
   "execution_count": null,
   "metadata": {},
   "outputs": [],
   "source": [
    "# Another sanity check plot, looking at star-galaxy separation in COSMOS\n",
    "\n",
    "# subsample randomly to make plotting faster:\n",
    "idx = np.random.choice(np.arange(len(df_cosmos)), 50000)\n",
    "\n",
    "plt.figure()\n",
    "plt.scatter(df_cosmos['mag_auto'][idx], df_cosmos['mu_max'][idx], c=df_cosmos['mu_class'][idx], marker='.', s=1)\n",
    "plt.colorbar(label='MU_CLASS')\n",
    "plt.xlabel('MAG_AUTO')\n",
    "plt.ylabel('MU_MAX')\n",
    "plt.minorticks_on()\n",
    "plt.show()"
   ]
  },
  {
   "cell_type": "markdown",
   "metadata": {},
   "source": [
    "# HSC Catalogs\n",
    "\n",
    "Information available here: https://confluence.lsstcorp.org/display/DM/S18+HSC+PDR1+reprocessing\n",
    "\n",
    "The output repos are: \n",
    "\n",
    "    /datasets/hsc/repo/rerun/DM-13666/UDEEP/\n",
    "    /datasets/hsc/repo/rerun/DM-13666/DEEP/\n",
    "    /datasets/hsc/repo/rerun/DM-13666/WIDE/\n",
    "    \n",
    "HSC SSP PDR1 data, as described in DMTR-31 Sect 1; this is the same as S17B HSC PDR1 reprocessing. It includes 5654 visits in 7 bands and 3 layers (386 visits in UDEEP, 668 visits in DEEP, and 4600 visits in WIDE). It has 11 tracts in UDEEP, 37 tracts in DEEP, and 91 tracts in WIDE. The tract IDs can be found in https://hsc-release.mtk.nao.ac.jp/doc/index.php/database/ (except tract=9572) or the first table on the S17B HSC PDR1 reprocessing page. \n",
    "\n",
    "The first thing we need to do is know what tracts and patches overlap with the COSMOS field. One way to do this is to find the center of each patch using the BBox from the deepCoadd calexp. Unfortunately, this is quite slow (~1 sec per patch) and there are ~6000 patches in the WIDE layer.\n",
    "\n",
    "A much better approach is to get the `deepCoadd_skyMap` object from the butler."
   ]
  },
  {
   "cell_type": "code",
   "execution_count": null,
   "metadata": {},
   "outputs": [],
   "source": [
    "import lsst.daf.persistence as daf_persistence"
   ]
  },
  {
   "cell_type": "code",
   "execution_count": null,
   "metadata": {},
   "outputs": [],
   "source": [
    "depth = 'DEEP'\n",
    "butler = daf_persistence.Butler('/datasets/hsc/repo/rerun/DM-13666/%s/'%(depth))"
   ]
  },
  {
   "cell_type": "markdown",
   "metadata": {},
   "source": [
    "This is a kludge to get the available patches in the dataset:"
   ]
  },
  {
   "cell_type": "code",
   "execution_count": null,
   "metadata": {},
   "outputs": [],
   "source": [
    "infiles = glob.glob('/datasets/hsc/repo/rerun/DM-13666/%s/deepCoadd-results/HSC-I/*/*/calexp-*.fits'%(depth))\n",
    "print(len(infiles))"
   ]
  },
  {
   "cell_type": "markdown",
   "metadata": {},
   "source": [
    "The next cell finds the center of each patch"
   ]
  },
  {
   "cell_type": "code",
   "execution_count": null,
   "metadata": {},
   "outputs": [],
   "source": [
    "def getPatchCenter(skymap, tract, patch):\n",
    "    # Find the center of the patch BBox in pixel coordinates and convert with tract WCS\n",
    "    patch = list(map(int, patch.split(',')))\n",
    "    wcs = skymap.generateTract(tract).getWcs()\n",
    "    bbox = skymap.generateTract(tract).getPatchInfo(patch).getInnerBBox()\n",
    "    sky = wcs.pixelToSky(np.mean((bbox.getBeginX(), bbox.getEndX())), \n",
    "                         np.mean((bbox.getBeginY(), bbox.getEndY())))\n",
    "    return sky[0].asDegrees(), sky[1].asDegrees()\n",
    "\n",
    "tract_array = []\n",
    "patch_array = []\n",
    "\n",
    "# Each line of \"infiles\" looks like this (infile[0]):\n",
    "# '/datasets/hsc/repo/rerun/DM-13666/DEEP/deepCoadd-results/HSC-I/17130/8,8/calexp-HSC-I-17130-8,8.fits'\n",
    "\n",
    "# Split on the '/', then parse the resulting array. Here's the result of infiles[0].split('/'):\n",
    "#['',\n",
    "# 'datasets',\n",
    "# 'hsc',\n",
    "# 'repo',\n",
    "# 'rerun',\n",
    "# 'DM-13666',\n",
    "# 'DEEP',\n",
    "# 'deepCoadd-results',\n",
    "# 'HSC-I',\n",
    "# '17130',\n",
    "# '8,8',\n",
    "# 'calexp-HSC-I-17130-8,8.fits']\n",
    "\n",
    "# So the tract number is third from the end, and patch is second from the end.\n",
    "\n",
    "for ii in range(0, len(infiles)):\n",
    "    parts = infiles[ii].split('/')\n",
    "    tract_array.append(int(parts[-3]))\n",
    "    patch_array.append(parts[-2])\n",
    "\n",
    "print('Found %i patches'%(len(patch_array)))\n",
    "    \n",
    "skymap = butler.get('deepCoadd_skyMap')\n",
    "    \n",
    "ra_center_array = np.tile(0., len(patch_array))\n",
    "dec_center_array = np.tile(0., len(patch_array))\n",
    "for ii, (tract, patch) in enumerate(zip(tract_array, patch_array)):\n",
    "    ra_center_array[ii], dec_center_array[ii] = getPatchCenter(skymap, tract, patch)\n",
    "    \n",
    "# Assemble in pandas data frame    \n",
    "data = {'tract': tract_array,\n",
    "        'patch': patch_array, \n",
    "        'ra_center': ra_center_array, \n",
    "        'dec_center': dec_center_array}\n",
    "df_tract_patch = pd.DataFrame(data=data)"
   ]
  },
  {
   "cell_type": "code",
   "execution_count": null,
   "metadata": {},
   "outputs": [],
   "source": [
    "# Plot RA, Dec of patch centers:\n",
    "plt.figure()\n",
    "plt.scatter(df_tract_patch['ra_center'], df_tract_patch['dec_center'], marker='.', s=5)\n",
    "# Centered on COSMOS field\n",
    "plt.xlim(155., 145.)\n",
    "plt.ylim(0., 4.)\n",
    "plt.xlabel('RA (deg)')\n",
    "plt.ylabel('Dec (deg)')\n",
    "plt.minorticks_on()"
   ]
  },
  {
   "cell_type": "markdown",
   "metadata": {},
   "source": [
    "Determine patches that overlap with the COSMOS field. We'll use Astropy tools for coordinate matching."
   ]
  },
  {
   "cell_type": "code",
   "execution_count": null,
   "metadata": {},
   "outputs": [],
   "source": [
    "from astropy.coordinates import SkyCoord\n",
    "from astropy.coordinates import match_coordinates_sky\n",
    "from astropy import units as u\n",
    "\n",
    "# Create \"SkyCoord\" objects for the central coordinate of COSMOS, and the patch centers of HSC:\n",
    "cosmos_patch_cen = SkyCoord(np.median(df_cosmos['ra'])*u.degree, np.median(df_cosmos['dec'])*u.degree, frame='icrs')\n",
    "hsc_patch_cen = SkyCoord(df_tract_patch['ra_center'].values*u.degree, df_tract_patch['dec_center'].values*u.degree, frame='icrs')\n",
    "\n",
    "# Calculate the separation (in degrees) of each HSC patch from the COSMOS center:\n",
    "sep_patches = hsc_patch_cen.separation(cosmos_patch_cen)\n",
    "\n",
    "# Pick patches within 'size_select' deg of COSMOS center:\n",
    "size_select = 0.15 # in degrees\n",
    "selection_patch = (sep_patches.degree < size_select) \n",
    "print('Number of patches selected: ',np.sum(selection_patch))"
   ]
  },
  {
   "cell_type": "markdown",
   "metadata": {},
   "source": [
    "Now loop over the overlapping patches to create a merged HSC catalog containing the columns of interest.\n",
    "\n",
    "A selection for good quality objects is also included at this stage. Some recommended selection criteria are available here: \n",
    "* \"Getting started tutorial part 6: analyzing measurement catalogs in multiple bands\": https://pipelines.lsst.io/getting-started/multiband-analysis.html\n",
    "* \"First Data Release of the Hyper Suprime-Cam Subaru Strategic Program\": https://arxiv.org/abs/1702.08449 (Table 4)\n"
   ]
  },
  {
   "cell_type": "code",
   "execution_count": null,
   "metadata": {},
   "outputs": [],
   "source": [
    "# We must select object catalogs individually from the butler, then concatenate them.\n",
    "\n",
    "coadd_forced_src_array = []\n",
    "for ii in np.nonzero(selection_patch)[0]:\n",
    "    tract, patch = df_tract_patch['tract'][ii], df_tract_patch['patch'][ii] \n",
    "    print('Tract, patch: ',tract, patch)\n",
    "    dataid = {'filter':'HSC-I', 'tract':tract, 'patch':patch}\n",
    "    coadd_forced_src = butler.get('deepCoadd_forced_src', dataId=dataid)\n",
    "    coadd_ref = butler.get('deepCoadd_ref', dataId=dataid)\n",
    "    coadd_calib = butler.get('deepCoadd_calexp_calib', dataId=dataid)\n",
    "    \n",
    "    selection_catalog = coadd_ref['detect_isPrimary'] \\\n",
    "        & ~coadd_forced_src['base_SdssCentroid_flag'] \\\n",
    "        & ~coadd_forced_src['base_PixelFlags_flag_interpolated'] \\\n",
    "        & ~coadd_forced_src['base_PixelFlags_flag_saturated'] \\\n",
    "        & ~coadd_forced_src['base_PsfFlux_flag'] \\\n",
    "        & ~coadd_forced_src['modelfit_CModel_flag']\n",
    "    \n",
    "    coadd_calib.setThrowOnNegativeFlux(False)\n",
    "    psf_mag = coadd_calib.getMagnitude(coadd_forced_src['base_PsfFlux_flux'])\n",
    "    cm_mag = coadd_calib.getMagnitude(coadd_forced_src['modelfit_CModel_flux'])\n",
    "    \n",
    "    data = {'ra': np.degrees(coadd_forced_src['coord_ra'][selection_catalog]),\n",
    "            'dec': np.degrees(coadd_forced_src['coord_dec'][selection_catalog]),\n",
    "            'psf_mag': psf_mag[selection_catalog],\n",
    "            'cm_mag': cm_mag[selection_catalog]}\n",
    "    coadd_forced_src_array.append(pd.DataFrame(data=data))\n",
    "\n",
    "dir(coadd_forced_src)\n",
    "df_hsc = pd.concat(coadd_forced_src_array)"
   ]
  },
  {
   "cell_type": "code",
   "execution_count": null,
   "metadata": {},
   "outputs": [],
   "source": [
    "np.max(df_hsc['ra']), np.min(df_hsc['ra']), np.max(df_hsc['dec']), np.min(df_hsc['dec']), np.all(np.isfinite(df_hsc['ra'])), np.all(np.isfinite(df_hsc['dec']))"
   ]
  },
  {
   "cell_type": "code",
   "execution_count": null,
   "metadata": {},
   "outputs": [],
   "source": [
    "# Check their magnitude distribution:\n",
    "plt.figure()\n",
    "plt.yscale('log')\n",
    "plt.hist(df_hsc['psf_mag'], bins=np.arange(17., 30., 0.1), range=(17., 30.), histtype='step', label='psf')\n",
    "plt.hist(df_hsc['cm_mag'], bins=np.arange(17., 30., 0.1), range=(17., 30.), histtype='step', label='cmodel')\n",
    "plt.legend(loc='upper left')\n",
    "plt.xlabel('magnitude')\n",
    "plt.ylabel('N')\n",
    "plt.minorticks_on()"
   ]
  },
  {
   "cell_type": "code",
   "execution_count": null,
   "metadata": {},
   "outputs": [],
   "source": [
    "# plot the COSMOS data footprint, with selected HSC patches overlaid:\n",
    "plt.figure()\n",
    "bins = plt.hist2d(df_cosmos['ra'], df_cosmos['dec'], bins=(300, 300), cmap='Blues', alpha=0.5)[1:]\n",
    "plt.scatter(df_hsc['ra'], df_hsc['dec'], c='red', marker='.', s=1, alpha=0.1)\n",
    "plt.xlabel('RA (deg)')\n",
    "plt.ylabel('Dec (deg)')\n",
    "plt.minorticks_on()\n",
    "plt.show()"
   ]
  },
  {
   "cell_type": "code",
   "execution_count": null,
   "metadata": {},
   "outputs": [],
   "source": [
    "# Mask out sources with 'NaN' values:\n",
    "mask = np.isfinite(df_hsc['cm_mag'])\n",
    "hsc_ra = np.array(df_hsc['ra'].values[mask])\n",
    "hsc_dec = np.array(df_hsc['dec'].values[mask])\n",
    "hsc_mag = np.array(df_hsc['cm_mag'].values[mask])"
   ]
  },
  {
   "cell_type": "code",
   "execution_count": null,
   "metadata": {},
   "outputs": [],
   "source": [
    "# Get RA, Dec catalogs and convert to astropy SkyCoords \n",
    "mask = np.isfinite(df_cosmos['mag_auto'])\n",
    "cosmos_ra = np.array(df_cosmos['ra'].values[mask])\n",
    "cosmos_dec = np.array(df_cosmos['dec'].values[mask])\n",
    "cosmos_mag = np.array(df_cosmos['mag_auto'].values[mask])\n",
    "cosmos_coords = SkyCoord(cosmos_ra*u.degree,\n",
    "                       cosmos_dec*u.degree, frame='icrs')\n",
    "hsc_coords = SkyCoord(hsc_ra*u.degree,\n",
    "                       hsc_dec*u.degree, frame='icrs')"
   ]
  },
  {
   "cell_type": "code",
   "execution_count": null,
   "metadata": {},
   "outputs": [],
   "source": [
    "# Match with the kd-tree routine from Astropy - note that all sources will be matched irrespective of distance\n",
    "index, dist2d, dist3d = match_coordinates_sky(hsc_coords, cosmos_coords,\n",
    "                                              nthneighbor=1, storekdtree=False)"
   ]
  },
  {
   "cell_type": "code",
   "execution_count": null,
   "metadata": {},
   "outputs": [],
   "source": [
    "fig = plt.figure()\n",
    "ax = fig.add_subplot(2,1,1)\n",
    "bins = np.linspace(0., 4., 200.)\n",
    "ax.set_yscale('log')\n",
    "ax.hist(dist2d.arcsec, bins=bins, range=(-1., 1.), histtype='step', label='Match distance (arcsec)')\n",
    "ax.legend(loc='upper right')\n",
    "ax.set_ylabel('N')\n",
    "\n",
    "# Find the separations for RA, Dec separately:\n",
    "delta_ra = []\n",
    "delta_dec = []\n",
    "\n",
    "for i in range(len(hsc_ra)-1):\n",
    "    delta_ra = np.append(delta_ra,3600.0*(hsc_ra[i]-cosmos_ra[index[i]]))\n",
    "    delta_dec = np.append(delta_dec,3600.0*(hsc_dec[i]-cosmos_dec[index[i]]))\n",
    "\n",
    "ax = fig.add_subplot(2,1,2)\n",
    "ax.axvline(0., c='0.5', ls='--', lw=1)\n",
    "bins = np.linspace(-0.7, 0.7, 51.)\n",
    "ax.hist(delta_ra, bins=bins, range=(-1., 1.), histtype='step', label='Delta RA (arcsec)')\n",
    "ax.hist(delta_dec, bins=bins, range=(-1., 1.), histtype='step', label='Delta Dec (arcsec)')\n",
    "ax.legend(loc='upper right')\n",
    "ax.set_ylabel('N')\n",
    "ax.set_xlabel('offset (arcsec)')\n",
    "ax.minorticks_on()\n"
   ]
  },
  {
   "cell_type": "markdown",
   "metadata": {},
   "source": [
    "Hmmm... There appears to be a small systematic offset in the RA coordinates between HSC and COSMOS."
   ]
  },
  {
   "cell_type": "code",
   "execution_count": null,
   "metadata": {},
   "outputs": [],
   "source": [
    "# Magnitude comparison (color-code by offset between HSC/COSMOS matches):\n",
    "plt.figure()\n",
    "plt.scatter(hsc_mag, \n",
    "            hsc_mag - cosmos_mag[index], c=dist2d.arcsec,\n",
    "            marker='.', s=10, vmax=1, cmap='Spectral_r')\n",
    "cb1 = plt.colorbar()\n",
    "plt.xlim(17,30)\n",
    "plt.ylim(-7,7)\n",
    "plt.xlabel('mag (HSC)')\n",
    "plt.ylabel('mag (HSC) - mag (COSMOS)')\n",
    "cb1.set_label('offset (arcsec)')\n",
    "plt.minorticks_on()"
   ]
  },
  {
   "cell_type": "markdown",
   "metadata": {},
   "source": [
    "Interesting pattern in the outlier distribution. However, it appears that most of the outliers are simply bad matches (i.e., with offsets >= 1.0 arcsec)."
   ]
  },
  {
   "cell_type": "markdown",
   "metadata": {},
   "source": [
    "### Check the completeness as a function of magnitude, assuming COSMOS as a truth table"
   ]
  },
  {
   "cell_type": "code",
   "execution_count": null,
   "metadata": {},
   "outputs": [],
   "source": [
    "# First, let's check out the number of objects in each dataset:\n",
    "\n",
    "plt.figure()\n",
    "plt.yscale('log')\n",
    "bins = np.arange(15., 30., 0.1)\n",
    "plt.hist(hsc_mag, bins=bins, color='red',range=(15., 30.), histtype='step', label='HSC')\n",
    "plt.hist(cosmos_mag[index], bins=bins, color='blue', range=(15., 30.), histtype='step', label='COSMOS Matched')\n",
    "plt.hist(cosmos_mag, bins=bins, color='blue', range=(15., 30.), histtype='step', lw=2, label='COSMOS All')\n",
    "plt.legend(loc='upper left')\n",
    "plt.xlabel('mag')\n",
    "plt.ylabel('N')\n",
    "plt.title('comparison of number of sources in HSC, COSMOS')\n",
    "plt.minorticks_on()"
   ]
  },
  {
   "cell_type": "markdown",
   "metadata": {},
   "source": [
    "HSC DEEP data appears to be roughly the same depth as HST COSMOS. However, the magnitude distributions don't match up at the faint end, so there must be some spurious matches."
   ]
  },
  {
   "cell_type": "markdown",
   "metadata": {},
   "source": [
    "Let's check the _completeness_ (i.e., the number of COSMOS sources that were detected in the HSC data) and the _spurious_ fraction (number of false matches) as a function of magnitude. (Since we accepted the nearest match for each object from HSC, the completeness+spurious fraction should sum to one.)"
   ]
  },
  {
   "cell_type": "code",
   "execution_count": null,
   "metadata": {},
   "outputs": [],
   "source": [
    "#plot completeness and spuriousness\n",
    "\n",
    "match_radius = 2.0 # radius (in arcseconds) beyond which a match is considered a \"wrong\" (spurious) match.\n",
    "\n",
    "#number of cosmos with hsc match\n",
    "binsize = 0.2\n",
    "bins = np.arange(10.,29.,binsize)\n",
    "num_cosmos, edges = np.histogram(cosmos_mag, bins=bins, range=(10.,29.))\n",
    "good_hsc, edges = np.histogram(hsc_mag[dist2d.arcsec < match_radius], bins=bins, range=(10.,29.))\n",
    "\n",
    "bad_hsc, edges = np.histogram(hsc_mag[dist2d.arcsec > match_radius], bins=bins, range=(10.,29.))\n",
    "all_hsc, edges = np.histogram(hsc_mag, bins=bins, range=(10.,29.))\n",
    "\n",
    "centers = edges+(binsize/2.0)\n",
    "\n",
    "fig = plt.figure(figsize=(15,6))\n",
    "plt.suptitle('match threshold: '+str(match_radius)+' arcsec')\n",
    "ax = fig.add_subplot(1,2,1)\n",
    "ax.plot(centers[:-1],good_hsc/all_hsc, color='blue',label='completeness')\n",
    "ax.plot(centers[:-1],good_hsc/all_hsc, '.', ms=10, color='blue')\n",
    "ax.set_xlabel('magnitude')\n",
    "ax.set_ylabel('completeness')\n",
    "ax.legend(loc='lower left')\n",
    "ax.minorticks_on()\n",
    "\n",
    "ax = fig.add_subplot(1,2,2)\n",
    "ax.plot(centers[:-1],bad_hsc/all_hsc, color='blue', label='spurious')\n",
    "ax.plot(centers[:-1],bad_hsc/all_hsc, '.', ms=10, color='blue')\n",
    "ax.set_xlabel('magnitude')\n",
    "ax.set_ylabel('spurious fraction')\n",
    "ax.legend(loc='upper left')\n",
    "\n",
    "ax.minorticks_on()"
   ]
  },
  {
   "cell_type": "code",
   "execution_count": null,
   "metadata": {},
   "outputs": [],
   "source": []
  }
 ],
 "metadata": {
  "kernelspec": {
   "display_name": "LSST",
   "language": "python",
   "name": "lsst"
  },
  "language_info": {
   "codemirror_mode": {
    "name": "ipython",
    "version": 3
   },
   "file_extension": ".py",
   "mimetype": "text/x-python",
   "name": "python",
   "nbconvert_exporter": "python",
   "pygments_lexer": "ipython3",
   "version": "3.6.6"
  }
 },
 "nbformat": 4,
 "nbformat_minor": 2
}
